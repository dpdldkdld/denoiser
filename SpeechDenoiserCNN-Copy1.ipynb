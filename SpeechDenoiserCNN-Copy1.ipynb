{
 "cells": [
  {
   "cell_type": "markdown",
   "metadata": {},
   "source": [
    "[ 사용한 데이터 ]\n",
    "- Training file names:  ( tfrecords/train_0 ~ train_2 ).tfrecords - 약 13GB\n",
    "- Validation file names: ( tfrecords/test_0 ~ test_7 ).tfrecords - 약 8GB"
   ]
  },
  {
   "cell_type": "code",
   "execution_count": 1,
   "metadata": {},
   "outputs": [],
   "source": [
    "import warnings\n",
    "warnings.filterwarnings(action='ignore')"
   ]
  },
  {
   "cell_type": "code",
   "execution_count": 2,
   "metadata": {},
   "outputs": [
    {
     "name": "stderr",
     "output_type": "stream",
     "text": [
      "2022-03-03 13:38:21.128379: I tensorflow/stream_executor/platform/default/dso_loader.cc:49] Successfully opened dynamic library libcudart.so.10.1\n",
      "2022-03-03 13:38:23.966789: I tensorflow/core/platform/cpu_feature_guard.cc:142] This TensorFlow binary is optimized with oneAPI Deep Neural Network Library (oneDNN) to use the following CPU instructions in performance-critical operations:  SSE4.1 SSE4.2 AVX AVX2 FMA\n",
      "To enable them in other operations, rebuild TensorFlow with the appropriate compiler flags.\n"
     ]
    },
    {
     "data": {
      "text/plain": [
       "[name: \"/device:CPU:0\"\n",
       " device_type: \"CPU\"\n",
       " memory_limit: 268435456\n",
       " locality {\n",
       " }\n",
       " incarnation: 6645189837649961954,\n",
       " name: \"/device:GPU:0\"\n",
       " device_type: \"GPU\"\n",
       " memory_limit: 14592656064\n",
       " locality {\n",
       "   bus_id: 1\n",
       "   links {\n",
       "   }\n",
       " }\n",
       " incarnation: 4921922236941445854\n",
       " physical_device_desc: \"device: 0, name: Tesla V100-SXM2-16GB, pci bus id: 0000:00:04.0, compute capability: 7.0\"]"
      ]
     },
     "execution_count": 2,
     "metadata": {},
     "output_type": "execute_result"
    },
    {
     "name": "stderr",
     "output_type": "stream",
     "text": [
      "2022-03-03 13:38:23.974458: I tensorflow/stream_executor/platform/default/dso_loader.cc:49] Successfully opened dynamic library libcuda.so.1\n",
      "2022-03-03 13:38:23.982743: I tensorflow/stream_executor/cuda/cuda_gpu_executor.cc:941] successful NUMA node read from SysFS had negative value (-1), but there must be at least one NUMA node, so returning NUMA node zero\n",
      "2022-03-03 13:38:23.982927: I tensorflow/core/common_runtime/gpu/gpu_device.cc:1720] Found device 0 with properties: \n",
      "pciBusID: 0000:00:04.0 name: Tesla V100-SXM2-16GB computeCapability: 7.0\n",
      "coreClock: 1.53GHz coreCount: 80 deviceMemorySize: 15.78GiB deviceMemoryBandwidth: 836.37GiB/s\n",
      "2022-03-03 13:38:23.982944: I tensorflow/stream_executor/platform/default/dso_loader.cc:49] Successfully opened dynamic library libcudart.so.10.1\n",
      "2022-03-03 13:38:23.989086: I tensorflow/stream_executor/platform/default/dso_loader.cc:49] Successfully opened dynamic library libcublas.so.10\n",
      "2022-03-03 13:38:23.989139: I tensorflow/stream_executor/platform/default/dso_loader.cc:49] Successfully opened dynamic library libcublasLt.so.10\n",
      "2022-03-03 13:38:23.992642: I tensorflow/stream_executor/platform/default/dso_loader.cc:49] Successfully opened dynamic library libcufft.so.10\n",
      "2022-03-03 13:38:23.996030: I tensorflow/stream_executor/platform/default/dso_loader.cc:49] Successfully opened dynamic library libcurand.so.10\n",
      "2022-03-03 13:38:24.001401: I tensorflow/stream_executor/platform/default/dso_loader.cc:49] Successfully opened dynamic library libcusolver.so.10\n",
      "2022-03-03 13:38:24.003502: I tensorflow/stream_executor/platform/default/dso_loader.cc:49] Successfully opened dynamic library libcusparse.so.10\n",
      "2022-03-03 13:38:24.012131: I tensorflow/stream_executor/platform/default/dso_loader.cc:49] Successfully opened dynamic library libcudnn.so.7\n",
      "2022-03-03 13:38:24.012263: I tensorflow/stream_executor/cuda/cuda_gpu_executor.cc:941] successful NUMA node read from SysFS had negative value (-1), but there must be at least one NUMA node, so returning NUMA node zero\n",
      "2022-03-03 13:38:24.012461: I tensorflow/stream_executor/cuda/cuda_gpu_executor.cc:941] successful NUMA node read from SysFS had negative value (-1), but there must be at least one NUMA node, so returning NUMA node zero\n",
      "2022-03-03 13:38:24.012574: I tensorflow/core/common_runtime/gpu/gpu_device.cc:1862] Adding visible gpu devices: 0\n",
      "2022-03-03 13:38:24.012608: I tensorflow/stream_executor/platform/default/dso_loader.cc:49] Successfully opened dynamic library libcudart.so.10.1\n",
      "2022-03-03 13:38:24.694649: I tensorflow/core/common_runtime/gpu/gpu_device.cc:1261] Device interconnect StreamExecutor with strength 1 edge matrix:\n",
      "2022-03-03 13:38:24.694686: I tensorflow/core/common_runtime/gpu/gpu_device.cc:1267]      0 \n",
      "2022-03-03 13:38:24.694693: I tensorflow/core/common_runtime/gpu/gpu_device.cc:1280] 0:   N \n",
      "2022-03-03 13:38:24.694921: I tensorflow/stream_executor/cuda/cuda_gpu_executor.cc:941] successful NUMA node read from SysFS had negative value (-1), but there must be at least one NUMA node, so returning NUMA node zero\n",
      "2022-03-03 13:38:24.695110: I tensorflow/stream_executor/cuda/cuda_gpu_executor.cc:941] successful NUMA node read from SysFS had negative value (-1), but there must be at least one NUMA node, so returning NUMA node zero\n",
      "2022-03-03 13:38:24.695268: I tensorflow/stream_executor/cuda/cuda_gpu_executor.cc:941] successful NUMA node read from SysFS had negative value (-1), but there must be at least one NUMA node, so returning NUMA node zero\n",
      "2022-03-03 13:38:24.695401: I tensorflow/core/common_runtime/gpu/gpu_device.cc:1406] Created TensorFlow device (/device:GPU:0 with 13916 MB memory) -> physical GPU (device: 0, name: Tesla V100-SXM2-16GB, pci bus id: 0000:00:04.0, compute capability: 7.0)\n",
      "2022-03-03 13:38:24.695742: I tensorflow/compiler/jit/xla_gpu_device.cc:99] Not creating XLA devices, tf_xla_enable_xla_devices not set\n"
     ]
    }
   ],
   "source": [
    "from tensorflow.python.client import device_lib \n",
    "device_lib.list_local_devices()"
   ]
  },
  {
   "cell_type": "code",
   "execution_count": 3,
   "metadata": {
    "id": "VoyZ5yLRaAeI",
    "scrolled": true
   },
   "outputs": [
    {
     "name": "stdout",
     "output_type": "stream",
     "text": [
      "Found GPU at: /device:GPU:0\n"
     ]
    },
    {
     "name": "stderr",
     "output_type": "stream",
     "text": [
      "2022-03-03 13:38:29.042977: I tensorflow/stream_executor/cuda/cuda_gpu_executor.cc:941] successful NUMA node read from SysFS had negative value (-1), but there must be at least one NUMA node, so returning NUMA node zero\n",
      "2022-03-03 13:38:29.043214: I tensorflow/core/common_runtime/gpu/gpu_device.cc:1720] Found device 0 with properties: \n",
      "pciBusID: 0000:00:04.0 name: Tesla V100-SXM2-16GB computeCapability: 7.0\n",
      "coreClock: 1.53GHz coreCount: 80 deviceMemorySize: 15.78GiB deviceMemoryBandwidth: 836.37GiB/s\n",
      "2022-03-03 13:38:29.043256: I tensorflow/stream_executor/platform/default/dso_loader.cc:49] Successfully opened dynamic library libcudart.so.10.1\n",
      "2022-03-03 13:38:29.043300: I tensorflow/stream_executor/platform/default/dso_loader.cc:49] Successfully opened dynamic library libcublas.so.10\n",
      "2022-03-03 13:38:29.043313: I tensorflow/stream_executor/platform/default/dso_loader.cc:49] Successfully opened dynamic library libcublasLt.so.10\n",
      "2022-03-03 13:38:29.043325: I tensorflow/stream_executor/platform/default/dso_loader.cc:49] Successfully opened dynamic library libcufft.so.10\n",
      "2022-03-03 13:38:29.043337: I tensorflow/stream_executor/platform/default/dso_loader.cc:49] Successfully opened dynamic library libcurand.so.10\n",
      "2022-03-03 13:38:29.043348: I tensorflow/stream_executor/platform/default/dso_loader.cc:49] Successfully opened dynamic library libcusolver.so.10\n",
      "2022-03-03 13:38:29.043359: I tensorflow/stream_executor/platform/default/dso_loader.cc:49] Successfully opened dynamic library libcusparse.so.10\n",
      "2022-03-03 13:38:29.043371: I tensorflow/stream_executor/platform/default/dso_loader.cc:49] Successfully opened dynamic library libcudnn.so.7\n",
      "2022-03-03 13:38:29.043454: I tensorflow/stream_executor/cuda/cuda_gpu_executor.cc:941] successful NUMA node read from SysFS had negative value (-1), but there must be at least one NUMA node, so returning NUMA node zero\n",
      "2022-03-03 13:38:29.043616: I tensorflow/stream_executor/cuda/cuda_gpu_executor.cc:941] successful NUMA node read from SysFS had negative value (-1), but there must be at least one NUMA node, so returning NUMA node zero\n",
      "2022-03-03 13:38:29.043725: I tensorflow/core/common_runtime/gpu/gpu_device.cc:1862] Adding visible gpu devices: 0\n",
      "2022-03-03 13:38:29.043756: I tensorflow/core/common_runtime/gpu/gpu_device.cc:1261] Device interconnect StreamExecutor with strength 1 edge matrix:\n",
      "2022-03-03 13:38:29.043762: I tensorflow/core/common_runtime/gpu/gpu_device.cc:1267]      0 \n",
      "2022-03-03 13:38:29.043768: I tensorflow/core/common_runtime/gpu/gpu_device.cc:1280] 0:   N \n",
      "2022-03-03 13:38:29.043841: I tensorflow/stream_executor/cuda/cuda_gpu_executor.cc:941] successful NUMA node read from SysFS had negative value (-1), but there must be at least one NUMA node, so returning NUMA node zero\n",
      "2022-03-03 13:38:29.043986: I tensorflow/stream_executor/cuda/cuda_gpu_executor.cc:941] successful NUMA node read from SysFS had negative value (-1), but there must be at least one NUMA node, so returning NUMA node zero\n",
      "2022-03-03 13:38:29.044106: I tensorflow/core/common_runtime/gpu/gpu_device.cc:1406] Created TensorFlow device (/device:GPU:0 with 13916 MB memory) -> physical GPU (device: 0, name: Tesla V100-SXM2-16GB, pci bus id: 0000:00:04.0, compute capability: 7.0)\n",
      "2022-03-03 13:38:29.044123: I tensorflow/compiler/jit/xla_gpu_device.cc:99] Not creating XLA devices, tf_xla_enable_xla_devices not set\n"
     ]
    }
   ],
   "source": [
    "import tensorflow as tf\n",
    "device_name = tf.test.gpu_device_name()\n",
    "device_name\n",
    "\n",
    "if device_name != '/device:GPU:0' :\n",
    "    raise SystemError('GPU device not found')\n",
    "print('Found GPU at: {}'.format(device_name))"
   ]
  },
  {
   "cell_type": "code",
   "execution_count": 4,
   "metadata": {
    "id": "Ah7ISzvtEmur"
   },
   "outputs": [],
   "source": [
    "import librosa\n",
    "import pandas as pd\n",
    "import os\n",
    "import datetime\n",
    "import matplotlib.pyplot as plt\n",
    "import numpy as np\n",
    "import tensorflow as tf\n",
    "import IPython.display as ipd\n",
    "import librosa.display\n",
    "import scipy\n",
    "import glob\n",
    "import numpy as np\n",
    "import math\n",
    "import warnings\n",
    "import pickle\n",
    "from sklearn.utils import shuffle\n",
    "import zipfile\n",
    "# Load the TensorBoard notebook extension.\n",
    "%load_ext tensorboard"
   ]
  },
  {
   "cell_type": "code",
   "execution_count": 5,
   "metadata": {
    "id": "WBZyUMpobR-Z"
   },
   "outputs": [
    {
     "name": "stderr",
     "output_type": "stream",
     "text": [
      "2022-03-03 13:38:35.988240: I tensorflow/stream_executor/cuda/cuda_gpu_executor.cc:941] successful NUMA node read from SysFS had negative value (-1), but there must be at least one NUMA node, so returning NUMA node zero\n",
      "2022-03-03 13:38:35.988464: I tensorflow/core/common_runtime/gpu/gpu_device.cc:1720] Found device 0 with properties: \n",
      "pciBusID: 0000:00:04.0 name: Tesla V100-SXM2-16GB computeCapability: 7.0\n",
      "coreClock: 1.53GHz coreCount: 80 deviceMemorySize: 15.78GiB deviceMemoryBandwidth: 836.37GiB/s\n",
      "2022-03-03 13:38:35.988495: I tensorflow/stream_executor/platform/default/dso_loader.cc:49] Successfully opened dynamic library libcudart.so.10.1\n",
      "2022-03-03 13:38:35.988525: I tensorflow/stream_executor/platform/default/dso_loader.cc:49] Successfully opened dynamic library libcublas.so.10\n",
      "2022-03-03 13:38:35.988538: I tensorflow/stream_executor/platform/default/dso_loader.cc:49] Successfully opened dynamic library libcublasLt.so.10\n",
      "2022-03-03 13:38:35.988550: I tensorflow/stream_executor/platform/default/dso_loader.cc:49] Successfully opened dynamic library libcufft.so.10\n",
      "2022-03-03 13:38:35.988563: I tensorflow/stream_executor/platform/default/dso_loader.cc:49] Successfully opened dynamic library libcurand.so.10\n",
      "2022-03-03 13:38:35.988576: I tensorflow/stream_executor/platform/default/dso_loader.cc:49] Successfully opened dynamic library libcusolver.so.10\n",
      "2022-03-03 13:38:35.988588: I tensorflow/stream_executor/platform/default/dso_loader.cc:49] Successfully opened dynamic library libcusparse.so.10\n",
      "2022-03-03 13:38:35.988601: I tensorflow/stream_executor/platform/default/dso_loader.cc:49] Successfully opened dynamic library libcudnn.so.7\n",
      "2022-03-03 13:38:35.988665: I tensorflow/stream_executor/cuda/cuda_gpu_executor.cc:941] successful NUMA node read from SysFS had negative value (-1), but there must be at least one NUMA node, so returning NUMA node zero\n",
      "2022-03-03 13:38:35.988836: I tensorflow/stream_executor/cuda/cuda_gpu_executor.cc:941] successful NUMA node read from SysFS had negative value (-1), but there must be at least one NUMA node, so returning NUMA node zero\n",
      "2022-03-03 13:38:35.988974: I tensorflow/core/common_runtime/gpu/gpu_device.cc:1862] Adding visible gpu devices: 0\n",
      "2022-03-03 13:38:35.989012: I tensorflow/core/common_runtime/gpu/gpu_device.cc:1261] Device interconnect StreamExecutor with strength 1 edge matrix:\n",
      "2022-03-03 13:38:35.989019: I tensorflow/core/common_runtime/gpu/gpu_device.cc:1267]      0 \n",
      "2022-03-03 13:38:35.989025: I tensorflow/core/common_runtime/gpu/gpu_device.cc:1280] 0:   N \n",
      "2022-03-03 13:38:35.989139: I tensorflow/stream_executor/cuda/cuda_gpu_executor.cc:941] successful NUMA node read from SysFS had negative value (-1), but there must be at least one NUMA node, so returning NUMA node zero\n",
      "2022-03-03 13:38:35.989308: I tensorflow/stream_executor/cuda/cuda_gpu_executor.cc:941] successful NUMA node read from SysFS had negative value (-1), but there must be at least one NUMA node, so returning NUMA node zero\n",
      "2022-03-03 13:38:35.989446: I tensorflow/core/common_runtime/gpu/gpu_device.cc:1406] Created TensorFlow device (/device:GPU:0 with 13916 MB memory) -> physical GPU (device: 0, name: Tesla V100-SXM2-16GB, pci bus id: 0000:00:04.0, compute capability: 7.0)\n",
      "2022-03-03 13:38:35.989463: I tensorflow/compiler/jit/xla_gpu_device.cc:99] Not creating XLA devices, tf_xla_enable_xla_devices not set\n"
     ]
    },
    {
     "data": {
      "text/plain": [
       "[name: \"/device:CPU:0\"\n",
       " device_type: \"CPU\"\n",
       " memory_limit: 268435456\n",
       " locality {\n",
       " }\n",
       " incarnation: 3060068551471265711,\n",
       " name: \"/device:GPU:0\"\n",
       " device_type: \"GPU\"\n",
       " memory_limit: 14592656064\n",
       " locality {\n",
       "   bus_id: 1\n",
       "   links {\n",
       "   }\n",
       " }\n",
       " incarnation: 10973941098543348675\n",
       " physical_device_desc: \"device: 0, name: Tesla V100-SXM2-16GB, pci bus id: 0000:00:04.0, compute capability: 7.0\"]"
      ]
     },
     "execution_count": 5,
     "metadata": {},
     "output_type": "execute_result"
    }
   ],
   "source": [
    "from tensorflow.python.client import device_lib\n",
    "device_lib.list_local_devices()"
   ]
  },
  {
   "cell_type": "code",
   "execution_count": 6,
   "metadata": {
    "id": "zu2lgR8lEmu0"
   },
   "outputs": [],
   "source": [
    "tf.random.set_seed(999)\n",
    "np.random.seed(999)"
   ]
  },
  {
   "cell_type": "code",
   "execution_count": 7,
   "metadata": {
    "id": "d43UvhEqxrkJ"
   },
   "outputs": [],
   "source": [
    "path_to_dataset = os.getenv('HOME')+'/data/tfrecords'"
   ]
  },
  {
   "cell_type": "code",
   "execution_count": 8,
   "metadata": {
    "id": "W36WF4mT1kGK"
   },
   "outputs": [
    {
     "name": "stdout",
     "output_type": "stream",
     "text": [
      "Training file names:  ['/home/seungmiya13/data/tfrecords/train_2.tfrecords', '/home/seungmiya13/data/tfrecords/train_1.tfrecords', '/home/seungmiya13/data/tfrecords/train_0.tfrecords']\n",
      "Validation file names:  ['/home/seungmiya13/data/tfrecords/test_0.tfrecords', '/home/seungmiya13/data/tfrecords/test_7.tfrecords', '/home/seungmiya13/data/tfrecords/test_1.tfrecords', '/home/seungmiya13/data/tfrecords/test_2.tfrecords', '/home/seungmiya13/data/tfrecords/test_4.tfrecords', '/home/seungmiya13/data/tfrecords/test_6.tfrecords', '/home/seungmiya13/data/tfrecords/test_3.tfrecords', '/home/seungmiya13/data/tfrecords/test_5.tfrecords']\n"
     ]
    }
   ],
   "source": [
    "# get training and validation tf record file names\n",
    "train_tfrecords_filenames = glob.glob(os.path.join(path_to_dataset, 'train_*'))\n",
    "val_tfrecords_filenames = glob.glob(os.path.join(path_to_dataset, 'test_*'))\n",
    "\n",
    "# suffle the file names for training\n",
    "np.random.shuffle(train_tfrecords_filenames)\n",
    "print(\"Training file names: \", train_tfrecords_filenames)\n",
    "print(\"Validation file names: \", val_tfrecords_filenames)"
   ]
  },
  {
   "cell_type": "code",
   "execution_count": 9,
   "metadata": {
    "id": "jKZtPoLMEmvJ"
   },
   "outputs": [
    {
     "name": "stdout",
     "output_type": "stream",
     "text": [
      "windowLength: 256\n",
      "overlap: 64\n",
      "ffTLength: 256\n",
      "inputFs: 48000.0\n",
      "fs: 16000.0\n",
      "numFeatures: 129\n",
      "numSegments: 8\n"
     ]
    }
   ],
   "source": [
    "windowLength = 256\n",
    "overlap      = round(0.25 * windowLength) # overlap of 75%\n",
    "ffTLength    = windowLength\n",
    "inputFs      = 48e3\n",
    "fs           = 16e3\n",
    "numFeatures  = ffTLength//2 + 1\n",
    "numSegments  = 8\n",
    "print(\"windowLength:\",windowLength)\n",
    "print(\"overlap:\",overlap)\n",
    "print(\"ffTLength:\",ffTLength)\n",
    "print(\"inputFs:\",inputFs)\n",
    "print(\"fs:\",fs)\n",
    "print(\"numFeatures:\",numFeatures)\n",
    "print(\"numSegments:\",numSegments)"
   ]
  },
  {
   "cell_type": "code",
   "execution_count": 10,
   "metadata": {
    "id": "JXpSGe8L0cl_"
   },
   "outputs": [],
   "source": [
    "mozilla_basepath = os.getenv('HOME')+ \"/data/en\"\n",
    "UrbanSound8K_basepath = os.getenv('HOME')+ '/data/UrbanSound8K'"
   ]
  },
  {
   "cell_type": "markdown",
   "metadata": {
    "id": "zzbdfIi-Lgk9"
   },
   "source": [
    "## Prepare Input features"
   ]
  },
  {
   "cell_type": "code",
   "execution_count": 11,
   "metadata": {
    "id": "24kph3wJ3s5V"
   },
   "outputs": [],
   "source": [
    "def tf_record_parser(record):\n",
    "    keys_to_features = {\n",
    "        \"noise_stft_phase\": tf.io.FixedLenFeature((), tf.string, default_value=\"\"),\n",
    "        'noise_stft_mag_features': tf.io.FixedLenFeature([], tf.string),\n",
    "        \"clean_stft_magnitude\": tf.io.FixedLenFeature((), tf.string)\n",
    "    }\n",
    "\n",
    "    features = tf.io.parse_single_example(record, keys_to_features)\n",
    "\n",
    "    noise_stft_mag_features = tf.io.decode_raw(features['noise_stft_mag_features'], tf.float32)\n",
    "    clean_stft_magnitude = tf.io.decode_raw(features['clean_stft_magnitude'], tf.float32)\n",
    "    noise_stft_phase = tf.io.decode_raw(features['noise_stft_phase'], tf.float32)\n",
    "\n",
    "    # reshape input and annotation images\n",
    "    noise_stft_mag_features = tf.reshape(noise_stft_mag_features, (129, 8, 1), name=\"noise_stft_mag_features\")\n",
    "    clean_stft_magnitude = tf.reshape(clean_stft_magnitude, (129, 1, 1), name=\"clean_stft_magnitude\")\n",
    "    noise_stft_phase = tf.reshape(noise_stft_phase, (129,), name=\"noise_stft_phase\")\n",
    "\n",
    "    return noise_stft_mag_features, clean_stft_magnitude"
   ]
  },
  {
   "cell_type": "markdown",
   "metadata": {
    "id": "uJXPGrgVTCbZ"
   },
   "source": [
    "## Create tf.Data.Dataset"
   ]
  },
  {
   "cell_type": "code",
   "execution_count": 13,
   "metadata": {
    "id": "FF_A3YbZTCsj"
   },
   "outputs": [
    {
     "name": "stdout",
     "output_type": "stream",
     "text": [
      "WARNING:tensorflow:AutoGraph could not transform <function tf_record_parser at 0x7f1a42962f80> and will run it as-is.\n",
      "Please report this to the TensorFlow team. When filing the bug, set the verbosity to 10 (on Linux, `export AUTOGRAPH_VERBOSITY=10`) and attach the full output.\n",
      "Cause: module 'gast' has no attribute 'Index'\n",
      "To silence this warning, decorate the function with @tf.autograph.experimental.do_not_convert\n",
      "WARNING: AutoGraph could not transform <function tf_record_parser at 0x7f1a42962f80> and will run it as-is.\n",
      "Please report this to the TensorFlow team. When filing the bug, set the verbosity to 10 (on Linux, `export AUTOGRAPH_VERBOSITY=10`) and attach the full output.\n",
      "Cause: module 'gast' has no attribute 'Index'\n",
      "To silence this warning, decorate the function with @tf.autograph.experimental.do_not_convert\n"
     ]
    },
    {
     "name": "stderr",
     "output_type": "stream",
     "text": [
      "2022-03-03 13:39:02.936561: I tensorflow/compiler/jit/xla_cpu_device.cc:41] Not creating XLA devices, tf_xla_enable_xla_devices not set\n",
      "2022-03-03 13:39:02.936850: I tensorflow/stream_executor/cuda/cuda_gpu_executor.cc:941] successful NUMA node read from SysFS had negative value (-1), but there must be at least one NUMA node, so returning NUMA node zero\n",
      "2022-03-03 13:39:02.937061: I tensorflow/core/common_runtime/gpu/gpu_device.cc:1720] Found device 0 with properties: \n",
      "pciBusID: 0000:00:04.0 name: Tesla V100-SXM2-16GB computeCapability: 7.0\n",
      "coreClock: 1.53GHz coreCount: 80 deviceMemorySize: 15.78GiB deviceMemoryBandwidth: 836.37GiB/s\n",
      "2022-03-03 13:39:02.937100: I tensorflow/stream_executor/platform/default/dso_loader.cc:49] Successfully opened dynamic library libcudart.so.10.1\n",
      "2022-03-03 13:39:02.937137: I tensorflow/stream_executor/platform/default/dso_loader.cc:49] Successfully opened dynamic library libcublas.so.10\n",
      "2022-03-03 13:39:02.937148: I tensorflow/stream_executor/platform/default/dso_loader.cc:49] Successfully opened dynamic library libcublasLt.so.10\n",
      "2022-03-03 13:39:02.937159: I tensorflow/stream_executor/platform/default/dso_loader.cc:49] Successfully opened dynamic library libcufft.so.10\n",
      "2022-03-03 13:39:02.937169: I tensorflow/stream_executor/platform/default/dso_loader.cc:49] Successfully opened dynamic library libcurand.so.10\n",
      "2022-03-03 13:39:02.937179: I tensorflow/stream_executor/platform/default/dso_loader.cc:49] Successfully opened dynamic library libcusolver.so.10\n",
      "2022-03-03 13:39:02.937190: I tensorflow/stream_executor/platform/default/dso_loader.cc:49] Successfully opened dynamic library libcusparse.so.10\n",
      "2022-03-03 13:39:02.937200: I tensorflow/stream_executor/platform/default/dso_loader.cc:49] Successfully opened dynamic library libcudnn.so.7\n",
      "2022-03-03 13:39:02.937264: I tensorflow/stream_executor/cuda/cuda_gpu_executor.cc:941] successful NUMA node read from SysFS had negative value (-1), but there must be at least one NUMA node, so returning NUMA node zero\n",
      "2022-03-03 13:39:02.937411: I tensorflow/stream_executor/cuda/cuda_gpu_executor.cc:941] successful NUMA node read from SysFS had negative value (-1), but there must be at least one NUMA node, so returning NUMA node zero\n",
      "2022-03-03 13:39:02.937520: I tensorflow/core/common_runtime/gpu/gpu_device.cc:1862] Adding visible gpu devices: 0\n",
      "2022-03-03 13:39:02.937946: I tensorflow/stream_executor/cuda/cuda_gpu_executor.cc:941] successful NUMA node read from SysFS had negative value (-1), but there must be at least one NUMA node, so returning NUMA node zero\n",
      "2022-03-03 13:39:02.938087: I tensorflow/core/common_runtime/gpu/gpu_device.cc:1720] Found device 0 with properties: \n",
      "pciBusID: 0000:00:04.0 name: Tesla V100-SXM2-16GB computeCapability: 7.0\n",
      "coreClock: 1.53GHz coreCount: 80 deviceMemorySize: 15.78GiB deviceMemoryBandwidth: 836.37GiB/s\n",
      "2022-03-03 13:39:02.938104: I tensorflow/stream_executor/platform/default/dso_loader.cc:49] Successfully opened dynamic library libcudart.so.10.1\n",
      "2022-03-03 13:39:02.938124: I tensorflow/stream_executor/platform/default/dso_loader.cc:49] Successfully opened dynamic library libcublas.so.10\n",
      "2022-03-03 13:39:02.938134: I tensorflow/stream_executor/platform/default/dso_loader.cc:49] Successfully opened dynamic library libcublasLt.so.10\n",
      "2022-03-03 13:39:02.938143: I tensorflow/stream_executor/platform/default/dso_loader.cc:49] Successfully opened dynamic library libcufft.so.10\n",
      "2022-03-03 13:39:02.938153: I tensorflow/stream_executor/platform/default/dso_loader.cc:49] Successfully opened dynamic library libcurand.so.10\n",
      "2022-03-03 13:39:02.938163: I tensorflow/stream_executor/platform/default/dso_loader.cc:49] Successfully opened dynamic library libcusolver.so.10\n",
      "2022-03-03 13:39:02.938172: I tensorflow/stream_executor/platform/default/dso_loader.cc:49] Successfully opened dynamic library libcusparse.so.10\n",
      "2022-03-03 13:39:02.938181: I tensorflow/stream_executor/platform/default/dso_loader.cc:49] Successfully opened dynamic library libcudnn.so.7\n",
      "2022-03-03 13:39:02.938224: I tensorflow/stream_executor/cuda/cuda_gpu_executor.cc:941] successful NUMA node read from SysFS had negative value (-1), but there must be at least one NUMA node, so returning NUMA node zero\n",
      "2022-03-03 13:39:02.938368: I tensorflow/stream_executor/cuda/cuda_gpu_executor.cc:941] successful NUMA node read from SysFS had negative value (-1), but there must be at least one NUMA node, so returning NUMA node zero\n",
      "2022-03-03 13:39:02.938475: I tensorflow/core/common_runtime/gpu/gpu_device.cc:1862] Adding visible gpu devices: 0\n",
      "2022-03-03 13:39:02.938510: I tensorflow/core/common_runtime/gpu/gpu_device.cc:1261] Device interconnect StreamExecutor with strength 1 edge matrix:\n",
      "2022-03-03 13:39:02.938516: I tensorflow/core/common_runtime/gpu/gpu_device.cc:1267]      0 \n",
      "2022-03-03 13:39:02.938521: I tensorflow/core/common_runtime/gpu/gpu_device.cc:1280] 0:   N \n",
      "2022-03-03 13:39:02.938591: I tensorflow/stream_executor/cuda/cuda_gpu_executor.cc:941] successful NUMA node read from SysFS had negative value (-1), but there must be at least one NUMA node, so returning NUMA node zero\n",
      "2022-03-03 13:39:02.938734: I tensorflow/stream_executor/cuda/cuda_gpu_executor.cc:941] successful NUMA node read from SysFS had negative value (-1), but there must be at least one NUMA node, so returning NUMA node zero\n",
      "2022-03-03 13:39:02.938881: I tensorflow/core/common_runtime/gpu/gpu_device.cc:1406] Created TensorFlow device (/job:localhost/replica:0/task:0/device:GPU:0 with 13916 MB memory) -> physical GPU (device: 0, name: Tesla V100-SXM2-16GB, pci bus id: 0000:00:04.0, compute capability: 7.0)\n",
      "2022-03-03 13:39:02.938898: I tensorflow/compiler/jit/xla_gpu_device.cc:99] Not creating XLA devices, tf_xla_enable_xla_devices not set\n"
     ]
    }
   ],
   "source": [
    "train_dataset = tf.data.TFRecordDataset([train_tfrecords_filenames])\n",
    "train_dataset = train_dataset.map(tf_record_parser)\n",
    "train_dataset = train_dataset.shuffle(8192)\n",
    "train_dataset = train_dataset.repeat()\n",
    "train_dataset = train_dataset.batch(512)\n",
    "train_dataset = train_dataset.prefetch(buffer_size=tf.data.experimental.AUTOTUNE)"
   ]
  },
  {
   "cell_type": "code",
   "execution_count": 14,
   "metadata": {
    "id": "NOuWPzQaTNDy"
   },
   "outputs": [],
   "source": [
    "test_dataset = tf.data.TFRecordDataset([val_tfrecords_filenames])\n",
    "test_dataset = test_dataset.map(tf_record_parser)\n",
    "test_dataset = test_dataset.repeat(1)\n",
    "test_dataset = test_dataset.batch(512)"
   ]
  },
  {
   "cell_type": "markdown",
   "metadata": {
    "id": "CEG5JofLSfRw"
   },
   "source": [
    "## Model Training"
   ]
  },
  {
   "cell_type": "code",
   "execution_count": 15,
   "metadata": {
    "id": "2OZFegXrSYle"
   },
   "outputs": [],
   "source": [
    "from tensorflow.keras.layers import Conv2D, Input, LeakyReLU, Flatten, Dense, Reshape, Conv2DTranspose, BatchNormalization, Activation\n",
    "from tensorflow.keras import Model, Sequential"
   ]
  },
  {
   "cell_type": "code",
   "execution_count": 18,
   "metadata": {
    "id": "lc2K0cfhPU5-"
   },
   "outputs": [],
   "source": [
    "def conv_block(x, filters, kernel_size, strides, padding='same', use_bn=True):\n",
    "    x = Conv2D(filters=filters, kernel_size=kernel_size, strides=strides, padding=padding, use_bias=False,\n",
    "              kernel_regularizer=tf.keras.regularizers.l2(0.0006))(x)\n",
    "    x = Activation('relu')(x)\n",
    "    if use_bn:\n",
    "        x = BatchNormalization()(x)\n",
    "    return x"
   ]
  },
  {
   "cell_type": "code",
   "execution_count": 19,
   "metadata": {
    "id": "XFYyKoAVQYCz"
   },
   "outputs": [],
   "source": [
    "def full_pre_activation_block(x, filters, kernel_size, strides, padding='same', use_bn=True):\n",
    "    shortcut = x\n",
    "    in_channels = x.shape[-1]\n",
    "\n",
    "    x = BatchNormalization()(x)\n",
    "    x = Activation('relu')(x)\n",
    "    x = Conv2D(filters=filters, kernel_size=kernel_size, strides=strides, padding='same')(x)\n",
    "\n",
    "    x = BatchNormalization()(x)\n",
    "    x = Activation('relu')(x)\n",
    "    x = Conv2D(filters=in_channels, kernel_size=kernel_size, strides=strides, padding='same')(x)\n",
    "\n",
    "    return shortcut + x"
   ]
  },
  {
   "cell_type": "code",
   "execution_count": 21,
   "metadata": {
    "id": "NlRQ3ngpZG1Y"
   },
   "outputs": [],
   "source": [
    "def build_model(l2_strength):\n",
    "    inputs = Input(shape=[numFeatures,numSegments,1])\n",
    "    x = inputs\n",
    "\n",
    "    # -----\n",
    "    x = tf.keras.layers.ZeroPadding2D(((4,4), (0,0)))(x)\n",
    "    x = Conv2D(filters=18, kernel_size=[9,8], strides=[1, 1], padding='valid', use_bias=False,\n",
    "              kernel_regularizer=tf.keras.regularizers.l2(l2_strength))(x)\n",
    "    x = Activation('relu')(x)\n",
    "    x = BatchNormalization()(x)\n",
    "\n",
    "    skip0 = Conv2D(filters=30, kernel_size=[5,1], strides=[1, 1], padding='same', use_bias=False,\n",
    "                 kernel_regularizer=tf.keras.regularizers.l2(l2_strength))(x)\n",
    "    x = Activation('relu')(skip0)\n",
    "    x = BatchNormalization()(x)\n",
    "\n",
    "    x = Conv2D(filters=8, kernel_size=[9,1], strides=[1, 1], padding='same', use_bias=False,\n",
    "              kernel_regularizer=tf.keras.regularizers.l2(l2_strength))(x)\n",
    "    x = Activation('relu')(x)\n",
    "    x = BatchNormalization()(x)\n",
    "\n",
    "    # -----\n",
    "    x = Conv2D(filters=18, kernel_size=[9,1], strides=[1, 1], padding='same', use_bias=False,\n",
    "              kernel_regularizer=tf.keras.regularizers.l2(l2_strength))(x)\n",
    "    x = Activation('relu')(x)\n",
    "    x = BatchNormalization()(x)\n",
    "\n",
    "    skip1 = Conv2D(filters=30, kernel_size=[5,1], strides=[1, 1], padding='same', use_bias=False,\n",
    "                 kernel_regularizer=tf.keras.regularizers.l2(l2_strength))(x)\n",
    "    x = Activation('relu')(skip1)\n",
    "    x = BatchNormalization()(x)\n",
    "\n",
    "    x = Conv2D(filters=8, kernel_size=[9,1], strides=[1, 1], padding='same', use_bias=False,\n",
    "              kernel_regularizer=tf.keras.regularizers.l2(l2_strength))(x)\n",
    "    x = Activation('relu')(x)\n",
    "    x = BatchNormalization()(x)\n",
    "\n",
    "    # ----\n",
    "    x = Conv2D(filters=18, kernel_size=[9,1], strides=[1, 1], padding='same', use_bias=False,\n",
    "              kernel_regularizer=tf.keras.regularizers.l2(l2_strength))(x)\n",
    "    x = Activation('relu')(x)\n",
    "    x = BatchNormalization()(x)\n",
    "\n",
    "    x = Conv2D(filters=30, kernel_size=[5,1], strides=[1, 1], padding='same', use_bias=False,\n",
    "              kernel_regularizer=tf.keras.regularizers.l2(l2_strength))(x)\n",
    "    x = Activation('relu')(x)\n",
    "    x = BatchNormalization()(x)\n",
    "\n",
    "    x = Conv2D(filters=8, kernel_size=[9,1], strides=[1, 1], padding='same', use_bias=False,\n",
    "              kernel_regularizer=tf.keras.regularizers.l2(l2_strength))(x)\n",
    "    x = Activation('relu')(x)\n",
    "    x = BatchNormalization()(x)\n",
    "\n",
    "    # ----\n",
    "    x = Conv2D(filters=18, kernel_size=[9,1], strides=[1, 1], padding='same', use_bias=False,\n",
    "              kernel_regularizer=tf.keras.regularizers.l2(l2_strength))(x)\n",
    "    x = Activation('relu')(x)\n",
    "    x = BatchNormalization()(x)\n",
    "\n",
    "    x = Conv2D(filters=30, kernel_size=[5,1], strides=[1, 1], padding='same', use_bias=False,\n",
    "             kernel_regularizer=tf.keras.regularizers.l2(l2_strength))(x)\n",
    "    x = x + skip1\n",
    "    x = Activation('relu')(x)\n",
    "    x = BatchNormalization()(x)\n",
    "\n",
    "    x = Conv2D(filters=8, kernel_size=[9,1], strides=[1, 1], padding='same', use_bias=False,\n",
    "              kernel_regularizer=tf.keras.regularizers.l2(l2_strength))(x)\n",
    "    x = Activation('relu')(x)\n",
    "    x = BatchNormalization()(x)\n",
    "\n",
    "    # ----\n",
    "    x = Conv2D(filters=18, kernel_size=[9,1], strides=[1, 1], padding='same', use_bias=False,\n",
    "              kernel_regularizer=tf.keras.regularizers.l2(l2_strength))(x)\n",
    "    x = Activation('relu')(x)\n",
    "    x = BatchNormalization()(x)\n",
    "\n",
    "    x = Conv2D(filters=30, kernel_size=[5,1], strides=[1, 1], padding='same', use_bias=False,\n",
    "             kernel_regularizer=tf.keras.regularizers.l2(l2_strength))(x)\n",
    "    x = x + skip0\n",
    "    x = Activation('relu')(x)\n",
    "    x = BatchNormalization()(x)\n",
    "\n",
    "    x = Conv2D(filters=8, kernel_size=[9,1], strides=[1, 1], padding='same', use_bias=False,\n",
    "              kernel_regularizer=tf.keras.regularizers.l2(l2_strength))(x)\n",
    "    x = Activation('relu')(x)\n",
    "    x = BatchNormalization()(x)\n",
    "\n",
    "    # ----\n",
    "    x = tf.keras.layers.SpatialDropout2D(0.2)(x)\n",
    "    x = Conv2D(filters=1, kernel_size=[129,1], strides=[1, 1], padding='same')(x)\n",
    "\n",
    "    model = Model(inputs=inputs, outputs=x)\n",
    "\n",
    "    optimizer = tf.keras.optimizers.Adam(3e-4) # lr = 3e-4\n",
    "    #optimizer = RAdam(total_steps=10000, warmup_proportion=0.1, min_lr=3e-4)\n",
    "\n",
    "    model.compile(optimizer=optimizer, loss='mse', \n",
    "                metrics=[tf.keras.metrics.RootMeanSquaredError('rmse')])\n",
    "    return model"
   ]
  },
  {
   "cell_type": "code",
   "execution_count": 22,
   "metadata": {
    "id": "mNpHS4LuShxd"
   },
   "outputs": [
    {
     "name": "stdout",
     "output_type": "stream",
     "text": [
      "Model: \"model\"\n",
      "__________________________________________________________________________________________________\n",
      "Layer (type)                    Output Shape         Param #     Connected to                     \n",
      "==================================================================================================\n",
      "input_1 (InputLayer)            [(None, 129, 8, 1)]  0                                            \n",
      "__________________________________________________________________________________________________\n",
      "zero_padding2d (ZeroPadding2D)  (None, 137, 8, 1)    0           input_1[0][0]                    \n",
      "__________________________________________________________________________________________________\n",
      "conv2d (Conv2D)                 (None, 129, 1, 18)   1296        zero_padding2d[0][0]             \n",
      "__________________________________________________________________________________________________\n",
      "activation (Activation)         (None, 129, 1, 18)   0           conv2d[0][0]                     \n",
      "__________________________________________________________________________________________________\n",
      "batch_normalization (BatchNorma (None, 129, 1, 18)   72          activation[0][0]                 \n",
      "__________________________________________________________________________________________________\n",
      "conv2d_1 (Conv2D)               (None, 129, 1, 30)   2700        batch_normalization[0][0]        \n",
      "__________________________________________________________________________________________________\n",
      "activation_1 (Activation)       (None, 129, 1, 30)   0           conv2d_1[0][0]                   \n",
      "__________________________________________________________________________________________________\n",
      "batch_normalization_1 (BatchNor (None, 129, 1, 30)   120         activation_1[0][0]               \n",
      "__________________________________________________________________________________________________\n",
      "conv2d_2 (Conv2D)               (None, 129, 1, 8)    2160        batch_normalization_1[0][0]      \n",
      "__________________________________________________________________________________________________\n",
      "activation_2 (Activation)       (None, 129, 1, 8)    0           conv2d_2[0][0]                   \n",
      "__________________________________________________________________________________________________\n",
      "batch_normalization_2 (BatchNor (None, 129, 1, 8)    32          activation_2[0][0]               \n",
      "__________________________________________________________________________________________________\n",
      "conv2d_3 (Conv2D)               (None, 129, 1, 18)   1296        batch_normalization_2[0][0]      \n",
      "__________________________________________________________________________________________________\n",
      "activation_3 (Activation)       (None, 129, 1, 18)   0           conv2d_3[0][0]                   \n",
      "__________________________________________________________________________________________________\n",
      "batch_normalization_3 (BatchNor (None, 129, 1, 18)   72          activation_3[0][0]               \n",
      "__________________________________________________________________________________________________\n",
      "conv2d_4 (Conv2D)               (None, 129, 1, 30)   2700        batch_normalization_3[0][0]      \n",
      "__________________________________________________________________________________________________\n",
      "activation_4 (Activation)       (None, 129, 1, 30)   0           conv2d_4[0][0]                   \n",
      "__________________________________________________________________________________________________\n",
      "batch_normalization_4 (BatchNor (None, 129, 1, 30)   120         activation_4[0][0]               \n",
      "__________________________________________________________________________________________________\n",
      "conv2d_5 (Conv2D)               (None, 129, 1, 8)    2160        batch_normalization_4[0][0]      \n",
      "__________________________________________________________________________________________________\n",
      "activation_5 (Activation)       (None, 129, 1, 8)    0           conv2d_5[0][0]                   \n",
      "__________________________________________________________________________________________________\n",
      "batch_normalization_5 (BatchNor (None, 129, 1, 8)    32          activation_5[0][0]               \n",
      "__________________________________________________________________________________________________\n",
      "conv2d_6 (Conv2D)               (None, 129, 1, 18)   1296        batch_normalization_5[0][0]      \n",
      "__________________________________________________________________________________________________\n",
      "activation_6 (Activation)       (None, 129, 1, 18)   0           conv2d_6[0][0]                   \n",
      "__________________________________________________________________________________________________\n",
      "batch_normalization_6 (BatchNor (None, 129, 1, 18)   72          activation_6[0][0]               \n",
      "__________________________________________________________________________________________________\n",
      "conv2d_7 (Conv2D)               (None, 129, 1, 30)   2700        batch_normalization_6[0][0]      \n",
      "__________________________________________________________________________________________________\n",
      "activation_7 (Activation)       (None, 129, 1, 30)   0           conv2d_7[0][0]                   \n",
      "__________________________________________________________________________________________________\n",
      "batch_normalization_7 (BatchNor (None, 129, 1, 30)   120         activation_7[0][0]               \n",
      "__________________________________________________________________________________________________\n",
      "conv2d_8 (Conv2D)               (None, 129, 1, 8)    2160        batch_normalization_7[0][0]      \n",
      "__________________________________________________________________________________________________\n",
      "activation_8 (Activation)       (None, 129, 1, 8)    0           conv2d_8[0][0]                   \n",
      "__________________________________________________________________________________________________\n",
      "batch_normalization_8 (BatchNor (None, 129, 1, 8)    32          activation_8[0][0]               \n",
      "__________________________________________________________________________________________________\n",
      "conv2d_9 (Conv2D)               (None, 129, 1, 18)   1296        batch_normalization_8[0][0]      \n",
      "__________________________________________________________________________________________________\n",
      "activation_9 (Activation)       (None, 129, 1, 18)   0           conv2d_9[0][0]                   \n",
      "__________________________________________________________________________________________________\n",
      "batch_normalization_9 (BatchNor (None, 129, 1, 18)   72          activation_9[0][0]               \n",
      "__________________________________________________________________________________________________\n",
      "conv2d_10 (Conv2D)              (None, 129, 1, 30)   2700        batch_normalization_9[0][0]      \n",
      "__________________________________________________________________________________________________\n",
      "tf.__operators__.add (TFOpLambd (None, 129, 1, 30)   0           conv2d_10[0][0]                  \n",
      "                                                                 conv2d_4[0][0]                   \n",
      "__________________________________________________________________________________________________\n",
      "activation_10 (Activation)      (None, 129, 1, 30)   0           tf.__operators__.add[0][0]       \n",
      "__________________________________________________________________________________________________\n",
      "batch_normalization_10 (BatchNo (None, 129, 1, 30)   120         activation_10[0][0]              \n",
      "__________________________________________________________________________________________________\n",
      "conv2d_11 (Conv2D)              (None, 129, 1, 8)    2160        batch_normalization_10[0][0]     \n",
      "__________________________________________________________________________________________________\n",
      "activation_11 (Activation)      (None, 129, 1, 8)    0           conv2d_11[0][0]                  \n",
      "__________________________________________________________________________________________________\n",
      "batch_normalization_11 (BatchNo (None, 129, 1, 8)    32          activation_11[0][0]              \n",
      "__________________________________________________________________________________________________\n",
      "conv2d_12 (Conv2D)              (None, 129, 1, 18)   1296        batch_normalization_11[0][0]     \n",
      "__________________________________________________________________________________________________\n",
      "activation_12 (Activation)      (None, 129, 1, 18)   0           conv2d_12[0][0]                  \n",
      "__________________________________________________________________________________________________\n",
      "batch_normalization_12 (BatchNo (None, 129, 1, 18)   72          activation_12[0][0]              \n",
      "__________________________________________________________________________________________________\n",
      "conv2d_13 (Conv2D)              (None, 129, 1, 30)   2700        batch_normalization_12[0][0]     \n",
      "__________________________________________________________________________________________________\n",
      "tf.__operators__.add_1 (TFOpLam (None, 129, 1, 30)   0           conv2d_13[0][0]                  \n",
      "                                                                 conv2d_1[0][0]                   \n",
      "__________________________________________________________________________________________________\n",
      "activation_13 (Activation)      (None, 129, 1, 30)   0           tf.__operators__.add_1[0][0]     \n",
      "__________________________________________________________________________________________________\n",
      "batch_normalization_13 (BatchNo (None, 129, 1, 30)   120         activation_13[0][0]              \n",
      "__________________________________________________________________________________________________\n",
      "conv2d_14 (Conv2D)              (None, 129, 1, 8)    2160        batch_normalization_13[0][0]     \n",
      "__________________________________________________________________________________________________\n",
      "activation_14 (Activation)      (None, 129, 1, 8)    0           conv2d_14[0][0]                  \n",
      "__________________________________________________________________________________________________\n",
      "batch_normalization_14 (BatchNo (None, 129, 1, 8)    32          activation_14[0][0]              \n",
      "__________________________________________________________________________________________________\n",
      "spatial_dropout2d (SpatialDropo (None, 129, 1, 8)    0           batch_normalization_14[0][0]     \n",
      "__________________________________________________________________________________________________\n",
      "conv2d_15 (Conv2D)              (None, 129, 1, 1)    1033        spatial_dropout2d[0][0]          \n",
      "==================================================================================================\n",
      "Total params: 32,933\n",
      "Trainable params: 32,373\n",
      "Non-trainable params: 560\n",
      "__________________________________________________________________________________________________\n"
     ]
    }
   ],
   "source": [
    "model = build_model(l2_strength=0.0)\n",
    "model.summary()"
   ]
  },
  {
   "cell_type": "code",
   "execution_count": 23,
   "metadata": {
    "id": "8rWOgsdwglFE"
   },
   "outputs": [
    {
     "name": "stdout",
     "output_type": "stream",
     "text": [
      "('Failed to import pydot. You must `pip install pydot` and install graphviz (https://graphviz.gitlab.io/download/), ', 'for `pydotprint` to work.')\n"
     ]
    }
   ],
   "source": [
    "# You might need to install the following dependencies: sudo apt install python-pydot python-pydot-ng graphviz\n",
    "tf.keras.utils.plot_model(model, show_shapes=True, dpi=64)"
   ]
  },
  {
   "cell_type": "code",
   "execution_count": 20,
   "metadata": {},
   "outputs": [
    {
     "name": "stderr",
     "output_type": "stream",
     "text": [
      "\u001b[34m\u001b[1mwandb\u001b[0m: Currently logged in as: \u001b[33mseungmiya13\u001b[0m (use `wandb login --relogin` to force relogin)\n",
      "2022-03-03 13:39:36.796645: I tensorflow/stream_executor/platform/default/dso_loader.cc:49] Successfully opened dynamic library libcudart.so.10.1\n"
     ]
    },
    {
     "data": {
      "text/html": [
       "Tracking run with wandb version 0.12.11"
      ],
      "text/plain": [
       "<IPython.core.display.HTML object>"
      ]
     },
     "metadata": {},
     "output_type": "display_data"
    },
    {
     "data": {
      "text/html": [
       "Run data is saved locally in <code>/home/seungmiya13/cnn-audio-denoiser/wandb/run-20220303_133935-2wiqm8id</code>"
      ],
      "text/plain": [
       "<IPython.core.display.HTML object>"
      ]
     },
     "metadata": {},
     "output_type": "display_data"
    },
    {
     "data": {
      "text/html": [
       "Syncing run <strong><a href=\"https://wandb.ai/seungmiya13/cnn-audio-denoiser/runs/2wiqm8id\" target=\"_blank\">playful-puddle-2</a></strong> to <a href=\"https://wandb.ai/seungmiya13/cnn-audio-denoiser\" target=\"_blank\">Weights & Biases</a> (<a href=\"https://wandb.me/run\" target=\"_blank\">docs</a>)<br/>"
      ],
      "text/plain": [
       "<IPython.core.display.HTML object>"
      ]
     },
     "metadata": {},
     "output_type": "display_data"
    },
    {
     "data": {
      "text/html": [
       "<button onClick=\"this.nextSibling.style.display='block';this.style.display='none';\">Display W&B run</button><iframe src=\"https://wandb.ai/seungmiya13/cnn-audio-denoiser/runs/2wiqm8id?jupyter=true\" style=\"border:none;width:100%;height:420px;display:none;\"></iframe>"
      ],
      "text/plain": [
       "<wandb.sdk.wandb_run.Run at 0x7f1a3ae5e750>"
      ]
     },
     "execution_count": 20,
     "metadata": {},
     "output_type": "execute_result"
    }
   ],
   "source": [
    "import wandb\n",
    "\n",
    "wandb.init(project=\"cnn-audio-denoiser\", entity=\"seungmiya13\")"
   ]
  },
  {
   "cell_type": "code",
   "execution_count": 24,
   "metadata": {},
   "outputs": [],
   "source": [
    "wandb.config = {\n",
    "  \"learning_rate\": 3e-4,\n",
    "  \"epochs\": 400,\n",
    "  \"batch_size\": 512\n",
    "}"
   ]
  },
  {
   "cell_type": "code",
   "execution_count": 25,
   "metadata": {},
   "outputs": [],
   "source": [
    "from wandb.keras import WandbCallback"
   ]
  },
  {
   "cell_type": "code",
   "execution_count": 26,
   "metadata": {
    "id": "BucSAwkHQj8Q"
   },
   "outputs": [
    {
     "name": "stderr",
     "output_type": "stream",
     "text": [
      "2022-03-03 13:40:12.626528: I tensorflow/compiler/mlir/mlir_graph_optimization_pass.cc:116] None of the MLIR optimization passes are enabled (registered 2)\n",
      "2022-03-03 13:40:12.627100: I tensorflow/core/platform/profile_utils/cpu_utils.cc:112] CPU Frequency: 2299995000 Hz\n",
      "2022-03-03 13:40:13.026798: I tensorflow/stream_executor/platform/default/dso_loader.cc:49] Successfully opened dynamic library libcudnn.so.7\n",
      "2022-03-03 13:40:14.192577: W tensorflow/stream_executor/gpu/asm_compiler.cc:98] *** WARNING *** You are using ptxas 9.1.108, which is older than 9.2.88. ptxas 9.x before 9.2.88 is known to miscompile XLA code, leading to incorrect results or invalid-address errors.\n",
      "\n",
      "You do not need to update to CUDA 9.2.88; cherry-picking the ptxas binary is sufficient.\n",
      "2022-03-03 13:40:14.291901: I tensorflow/stream_executor/platform/default/dso_loader.cc:49] Successfully opened dynamic library libcublas.so.10\n"
     ]
    },
    {
     "name": "stdout",
     "output_type": "stream",
     "text": [
      "2210/2210 [==============================] - 72s 32ms/step - loss: 0.6352 - rmse: 0.7970\n",
      "Baseline accuracy 0.6346789598464966\n"
     ]
    }
   ],
   "source": [
    "baseline_val_loss = model.evaluate(test_dataset)[0]\n",
    "print(f\"Baseline accuracy {baseline_val_loss}\")"
   ]
  },
  {
   "cell_type": "code",
   "execution_count": null,
   "metadata": {
    "id": "7OdmgHTp4_Ou"
   },
   "outputs": [],
   "source": [
    "%tensorboard --logdir logs"
   ]
  },
  {
   "cell_type": "code",
   "execution_count": 27,
   "metadata": {
    "id": "ocycFbP5-X0o"
   },
   "outputs": [],
   "source": [
    "def l2_norm(vector):\n",
    "    return np.square(vector)\n",
    "\n",
    "def SDR(denoised, cleaned, eps=1e-7): # Signal to Distortion Ratio\n",
    "    a = l2_norm(denoised)\n",
    "    b = l2_norm(denoised - cleaned)\n",
    "    a_b = a / b\n",
    "    return np.mean(10 * np.log10(a_b + eps))"
   ]
  },
  {
   "cell_type": "code",
   "execution_count": 28,
   "metadata": {
    "id": "bcPAuMZ9SlHa",
    "scrolled": true
   },
   "outputs": [
    {
     "name": "stderr",
     "output_type": "stream",
     "text": [
      "2022-03-03 13:41:36.546962: I tensorflow/core/profiler/lib/profiler_session.cc:136] Profiler session initializing.\n",
      "2022-03-03 13:41:36.547012: I tensorflow/core/profiler/lib/profiler_session.cc:155] Profiler session started.\n",
      "2022-03-03 13:41:36.547054: I tensorflow/core/profiler/internal/gpu/cupti_tracer.cc:1365] Profiler found 1 GPUs\n",
      "2022-03-03 13:41:36.551789: I tensorflow/stream_executor/platform/default/dso_loader.cc:49] Successfully opened dynamic library libcupti.so.10.1\n",
      "2022-03-03 13:41:36.652328: E tensorflow/core/profiler/internal/gpu/cupti_tracer.cc:1415] function cupti_interface_->Subscribe( &subscriber_, (CUpti_CallbackFunc)ApiCallback, this)failed with error CUPTI_ERROR_INSUFFICIENT_PRIVILEGES\n",
      "2022-03-03 13:41:36.652743: I tensorflow/core/profiler/lib/profiler_session.cc:172] Profiler session tear down.\n"
     ]
    },
    {
     "name": "stdout",
     "output_type": "stream",
     "text": [
      "Epoch 1/400\n",
      "600/600 [==============================] - 83s 136ms/step - loss: 0.3853 - rmse: 0.6207 - val_loss: 0.2489 - val_rmse: 0.4989\n",
      "Epoch 2/400\n",
      "600/600 [==============================] - 85s 141ms/step - loss: 0.2306 - rmse: 0.4802 - val_loss: 0.2088 - val_rmse: 0.4569\n",
      "Epoch 3/400\n",
      "600/600 [==============================] - 84s 139ms/step - loss: 0.2101 - rmse: 0.4584 - val_loss: 0.2027 - val_rmse: 0.4502\n",
      "Epoch 4/400\n",
      "600/600 [==============================] - 81s 135ms/step - loss: 0.2005 - rmse: 0.4478 - val_loss: 0.1987 - val_rmse: 0.4458\n",
      "Epoch 5/400\n",
      "600/600 [==============================] - 80s 133ms/step - loss: 0.1906 - rmse: 0.4365 - val_loss: 0.1976 - val_rmse: 0.4445\n",
      "Epoch 6/400\n",
      "600/600 [==============================] - 80s 134ms/step - loss: 0.1870 - rmse: 0.4325 - val_loss: 0.1956 - val_rmse: 0.4423\n",
      "Epoch 7/400\n",
      "600/600 [==============================] - 80s 133ms/step - loss: 0.1815 - rmse: 0.4260 - val_loss: 0.1811 - val_rmse: 0.4256\n",
      "Epoch 8/400\n",
      "600/600 [==============================] - 79s 132ms/step - loss: 0.1774 - rmse: 0.4212 - val_loss: 0.1810 - val_rmse: 0.4255\n",
      "Epoch 9/400\n",
      "600/600 [==============================] - 78s 130ms/step - loss: 0.1731 - rmse: 0.4161 - val_loss: 0.1780 - val_rmse: 0.4219\n",
      "Epoch 10/400\n",
      "600/600 [==============================] - 73s 122ms/step - loss: 0.1707 - rmse: 0.4131 - val_loss: 0.1803 - val_rmse: 0.4246\n",
      "Epoch 11/400\n",
      "600/600 [==============================] - 74s 123ms/step - loss: 0.1727 - rmse: 0.4156 - val_loss: 0.1973 - val_rmse: 0.4442\n",
      "Epoch 12/400\n",
      "600/600 [==============================] - 74s 124ms/step - loss: 0.1688 - rmse: 0.4108 - val_loss: 0.1744 - val_rmse: 0.4176\n",
      "Epoch 13/400\n",
      "600/600 [==============================] - 74s 123ms/step - loss: 0.1673 - rmse: 0.4090 - val_loss: 0.1887 - val_rmse: 0.4344\n",
      "Epoch 14/400\n",
      "600/600 [==============================] - 74s 123ms/step - loss: 0.1663 - rmse: 0.4078 - val_loss: 0.1793 - val_rmse: 0.4235\n",
      "Epoch 15/400\n",
      "600/600 [==============================] - 74s 124ms/step - loss: 0.1647 - rmse: 0.4058 - val_loss: 0.1957 - val_rmse: 0.4424\n",
      "Epoch 16/400\n",
      "600/600 [==============================] - 77s 128ms/step - loss: 0.1609 - rmse: 0.4011 - val_loss: 0.1751 - val_rmse: 0.4184\n",
      "Epoch 17/400\n",
      "600/600 [==============================] - 74s 123ms/step - loss: 0.1616 - rmse: 0.4020 - val_loss: 0.1786 - val_rmse: 0.4226\n",
      "Epoch 18/400\n",
      "600/600 [==============================] - 76s 128ms/step - loss: 0.1621 - rmse: 0.4026 - val_loss: 0.1749 - val_rmse: 0.4182\n",
      "Epoch 19/400\n",
      "600/600 [==============================] - 76s 127ms/step - loss: 0.1635 - rmse: 0.4043 - val_loss: 0.1816 - val_rmse: 0.4261\n",
      "Epoch 20/400\n",
      "600/600 [==============================] - 74s 124ms/step - loss: 0.1582 - rmse: 0.3977 - val_loss: 0.2016 - val_rmse: 0.4490\n",
      "Epoch 21/400\n",
      "600/600 [==============================] - 74s 124ms/step - loss: 0.1608 - rmse: 0.4011 - val_loss: 0.1710 - val_rmse: 0.4135\n",
      "Epoch 22/400\n",
      "600/600 [==============================] - 75s 125ms/step - loss: 0.1579 - rmse: 0.3973 - val_loss: 0.1818 - val_rmse: 0.4264\n",
      "Epoch 23/400\n",
      "600/600 [==============================] - 73s 123ms/step - loss: 0.1574 - rmse: 0.3968 - val_loss: 0.1766 - val_rmse: 0.4202\n",
      "Epoch 24/400\n",
      "600/600 [==============================] - 73s 122ms/step - loss: 0.1555 - rmse: 0.3943 - val_loss: 0.2020 - val_rmse: 0.4494\n",
      "Epoch 25/400\n",
      "600/600 [==============================] - 73s 123ms/step - loss: 0.1566 - rmse: 0.3957 - val_loss: 0.1702 - val_rmse: 0.4125\n",
      "Epoch 26/400\n",
      "600/600 [==============================] - 74s 124ms/step - loss: 0.1581 - rmse: 0.3976 - val_loss: 0.1796 - val_rmse: 0.4238\n",
      "Epoch 27/400\n",
      "600/600 [==============================] - 73s 122ms/step - loss: 0.1559 - rmse: 0.3949 - val_loss: 0.1643 - val_rmse: 0.4054\n",
      "Epoch 28/400\n",
      "600/600 [==============================] - 75s 125ms/step - loss: 0.1561 - rmse: 0.3951 - val_loss: 0.1685 - val_rmse: 0.4105\n",
      "Epoch 29/400\n",
      "600/600 [==============================] - 74s 123ms/step - loss: 0.1531 - rmse: 0.3913 - val_loss: 0.1704 - val_rmse: 0.4128\n",
      "Epoch 30/400\n",
      "600/600 [==============================] - 74s 124ms/step - loss: 0.1557 - rmse: 0.3946 - val_loss: 0.1671 - val_rmse: 0.4087\n",
      "Epoch 31/400\n",
      "600/600 [==============================] - 74s 124ms/step - loss: 0.1516 - rmse: 0.3893 - val_loss: 0.1694 - val_rmse: 0.4116\n",
      "Epoch 32/400\n",
      "600/600 [==============================] - 76s 127ms/step - loss: 0.1526 - rmse: 0.3906 - val_loss: 0.1721 - val_rmse: 0.4148\n",
      "Epoch 33/400\n",
      "600/600 [==============================] - 74s 124ms/step - loss: 0.1555 - rmse: 0.3944 - val_loss: 0.1670 - val_rmse: 0.4086\n",
      "Epoch 34/400\n",
      "600/600 [==============================] - 76s 127ms/step - loss: 0.1525 - rmse: 0.3905 - val_loss: 0.1719 - val_rmse: 0.4146\n",
      "Epoch 35/400\n",
      "600/600 [==============================] - 76s 127ms/step - loss: 0.1536 - rmse: 0.3919 - val_loss: 0.1905 - val_rmse: 0.4364\n",
      "Epoch 36/400\n",
      "600/600 [==============================] - 74s 123ms/step - loss: 0.1521 - rmse: 0.3901 - val_loss: 0.1664 - val_rmse: 0.4079\n",
      "Epoch 37/400\n",
      "600/600 [==============================] - 74s 124ms/step - loss: 0.1515 - rmse: 0.3892 - val_loss: 0.1764 - val_rmse: 0.4200\n",
      "Epoch 38/400\n",
      "600/600 [==============================] - 74s 124ms/step - loss: 0.1505 - rmse: 0.3880 - val_loss: 0.1626 - val_rmse: 0.4032\n",
      "Epoch 39/400\n",
      "600/600 [==============================] - 74s 123ms/step - loss: 0.1509 - rmse: 0.3885 - val_loss: 0.1701 - val_rmse: 0.4124\n",
      "Epoch 40/400\n",
      "600/600 [==============================] - 74s 123ms/step - loss: 0.1520 - rmse: 0.3899 - val_loss: 0.1714 - val_rmse: 0.4140\n",
      "Epoch 41/400\n",
      "600/600 [==============================] - 74s 123ms/step - loss: 0.1519 - rmse: 0.3897 - val_loss: 0.1716 - val_rmse: 0.4143\n",
      "Epoch 42/400\n",
      "600/600 [==============================] - 74s 123ms/step - loss: 0.1507 - rmse: 0.3883 - val_loss: 0.1782 - val_rmse: 0.4222\n",
      "Epoch 43/400\n",
      "600/600 [==============================] - 75s 124ms/step - loss: 0.1517 - rmse: 0.3895 - val_loss: 0.1627 - val_rmse: 0.4034\n",
      "Epoch 44/400\n",
      "600/600 [==============================] - 74s 124ms/step - loss: 0.1501 - rmse: 0.3875 - val_loss: 0.1657 - val_rmse: 0.4071\n",
      "Epoch 45/400\n",
      "600/600 [==============================] - 74s 124ms/step - loss: 0.1486 - rmse: 0.3855 - val_loss: 0.1685 - val_rmse: 0.4105\n",
      "Epoch 46/400\n",
      "600/600 [==============================] - 74s 123ms/step - loss: 0.1488 - rmse: 0.3858 - val_loss: 0.1653 - val_rmse: 0.4066\n",
      "Epoch 47/400\n",
      "600/600 [==============================] - 74s 123ms/step - loss: 0.1498 - rmse: 0.3870 - val_loss: 0.1662 - val_rmse: 0.4076\n",
      "Epoch 48/400\n",
      "600/600 [==============================] - 76s 127ms/step - loss: 0.1512 - rmse: 0.3889 - val_loss: 0.1655 - val_rmse: 0.4069\n",
      "Epoch 49/400\n",
      "600/600 [==============================] - 74s 123ms/step - loss: 0.1494 - rmse: 0.3865 - val_loss: 0.1712 - val_rmse: 0.4138\n",
      "Epoch 50/400\n",
      "600/600 [==============================] - 76s 127ms/step - loss: 0.1500 - rmse: 0.3873 - val_loss: 0.1649 - val_rmse: 0.4061\n",
      "Epoch 51/400\n",
      "600/600 [==============================] - 78s 131ms/step - loss: 0.1474 - rmse: 0.3839 - val_loss: 0.1647 - val_rmse: 0.4059\n",
      "Epoch 52/400\n",
      "600/600 [==============================] - 74s 123ms/step - loss: 0.1498 - rmse: 0.3870 - val_loss: 0.1679 - val_rmse: 0.4098\n",
      "Epoch 53/400\n",
      "600/600 [==============================] - 73s 123ms/step - loss: 0.1466 - rmse: 0.3829 - val_loss: 0.1637 - val_rmse: 0.4046\n",
      "Epoch 54/400\n",
      "600/600 [==============================] - 73s 122ms/step - loss: 0.1475 - rmse: 0.3841 - val_loss: 0.1897 - val_rmse: 0.4355\n",
      "Epoch 55/400\n",
      "600/600 [==============================] - 74s 124ms/step - loss: 0.1507 - rmse: 0.3882 - val_loss: 0.1651 - val_rmse: 0.4063\n",
      "Epoch 56/400\n",
      "600/600 [==============================] - 74s 123ms/step - loss: 0.1480 - rmse: 0.3848 - val_loss: 0.1637 - val_rmse: 0.4046\n",
      "Epoch 57/400\n",
      "600/600 [==============================] - 74s 123ms/step - loss: 0.1483 - rmse: 0.3850 - val_loss: 0.1618 - val_rmse: 0.4022\n",
      "Epoch 58/400\n",
      "600/600 [==============================] - 74s 124ms/step - loss: 0.1479 - rmse: 0.3846 - val_loss: 0.1713 - val_rmse: 0.4138\n",
      "Epoch 59/400\n",
      "600/600 [==============================] - 74s 123ms/step - loss: 0.1475 - rmse: 0.3841 - val_loss: 0.1734 - val_rmse: 0.4164\n",
      "Epoch 60/400\n"
     ]
    },
    {
     "name": "stdout",
     "output_type": "stream",
     "text": [
      "600/600 [==============================] - 74s 124ms/step - loss: 0.1458 - rmse: 0.3818 - val_loss: 0.1629 - val_rmse: 0.4036\n",
      "Epoch 61/400\n",
      "600/600 [==============================] - 74s 123ms/step - loss: 0.1457 - rmse: 0.3817 - val_loss: 0.1619 - val_rmse: 0.4024\n",
      "Epoch 62/400\n",
      "600/600 [==============================] - 74s 123ms/step - loss: 0.1497 - rmse: 0.3869 - val_loss: 0.1734 - val_rmse: 0.4164\n",
      "Epoch 63/400\n",
      "600/600 [==============================] - 74s 123ms/step - loss: 0.1471 - rmse: 0.3835 - val_loss: 0.1615 - val_rmse: 0.4019\n",
      "Epoch 64/400\n",
      "600/600 [==============================] - 77s 129ms/step - loss: 0.1478 - rmse: 0.3845 - val_loss: 0.1647 - val_rmse: 0.4059\n",
      "Epoch 65/400\n",
      "600/600 [==============================] - 74s 124ms/step - loss: 0.1463 - rmse: 0.3825 - val_loss: 0.1650 - val_rmse: 0.4063\n",
      "Epoch 66/400\n",
      "600/600 [==============================] - 76s 127ms/step - loss: 0.1475 - rmse: 0.3841 - val_loss: 0.1716 - val_rmse: 0.4143\n",
      "Epoch 67/400\n",
      "600/600 [==============================] - 76s 127ms/step - loss: 0.1446 - rmse: 0.3802 - val_loss: 0.1618 - val_rmse: 0.4023\n",
      "Epoch 68/400\n",
      "600/600 [==============================] - 74s 124ms/step - loss: 0.1461 - rmse: 0.3822 - val_loss: 0.1659 - val_rmse: 0.4073\n",
      "Epoch 69/400\n",
      "600/600 [==============================] - 74s 124ms/step - loss: 0.1464 - rmse: 0.3827 - val_loss: 0.1636 - val_rmse: 0.4044\n",
      "Epoch 70/400\n",
      "600/600 [==============================] - 74s 124ms/step - loss: 0.1486 - rmse: 0.3855 - val_loss: 0.1669 - val_rmse: 0.4085\n",
      "Epoch 71/400\n",
      "600/600 [==============================] - 74s 124ms/step - loss: 0.1449 - rmse: 0.3807 - val_loss: 0.1748 - val_rmse: 0.4181\n",
      "Epoch 72/400\n",
      "600/600 [==============================] - 75s 125ms/step - loss: 0.1472 - rmse: 0.3836 - val_loss: 0.1594 - val_rmse: 0.3993\n",
      "Epoch 73/400\n",
      "600/600 [==============================] - 73s 123ms/step - loss: 0.1457 - rmse: 0.3817 - val_loss: 0.1615 - val_rmse: 0.4019\n",
      "Epoch 74/400\n",
      "600/600 [==============================] - 73s 122ms/step - loss: 0.1453 - rmse: 0.3812 - val_loss: 0.1657 - val_rmse: 0.4070\n",
      "Epoch 75/400\n",
      "600/600 [==============================] - 73s 123ms/step - loss: 0.1444 - rmse: 0.3800 - val_loss: 0.1768 - val_rmse: 0.4204\n",
      "Epoch 76/400\n",
      "600/600 [==============================] - 74s 124ms/step - loss: 0.1451 - rmse: 0.3809 - val_loss: 0.1660 - val_rmse: 0.4074\n",
      "Epoch 77/400\n",
      "600/600 [==============================] - 74s 123ms/step - loss: 0.1472 - rmse: 0.3837 - val_loss: 0.1671 - val_rmse: 0.4088\n",
      "Epoch 78/400\n",
      "600/600 [==============================] - 74s 123ms/step - loss: 0.1458 - rmse: 0.3818 - val_loss: 0.1624 - val_rmse: 0.4030\n",
      "Epoch 79/400\n",
      "600/600 [==============================] - 74s 123ms/step - loss: 0.1456 - rmse: 0.3816 - val_loss: 0.1736 - val_rmse: 0.4167\n",
      "Epoch 80/400\n",
      "600/600 [==============================] - 77s 129ms/step - loss: 0.1438 - rmse: 0.3793 - val_loss: 0.1597 - val_rmse: 0.3997\n",
      "Epoch 81/400\n",
      "600/600 [==============================] - 73s 122ms/step - loss: 0.1462 - rmse: 0.3824 - val_loss: 0.1612 - val_rmse: 0.4015\n",
      "Epoch 82/400\n",
      "600/600 [==============================] - 76s 127ms/step - loss: 0.1432 - rmse: 0.3784 - val_loss: 0.1569 - val_rmse: 0.3961\n",
      "Epoch 83/400\n",
      "600/600 [==============================] - 76s 128ms/step - loss: 0.1437 - rmse: 0.3790 - val_loss: 0.1638 - val_rmse: 0.4047\n",
      "Epoch 84/400\n",
      "600/600 [==============================] - 73s 123ms/step - loss: 0.1469 - rmse: 0.3833 - val_loss: 0.1606 - val_rmse: 0.4007\n",
      "Epoch 85/400\n",
      "600/600 [==============================] - 74s 124ms/step - loss: 0.1439 - rmse: 0.3793 - val_loss: 0.1882 - val_rmse: 0.4338\n",
      "Epoch 86/400\n",
      "600/600 [==============================] - 73s 122ms/step - loss: 0.1452 - rmse: 0.3811 - val_loss: 0.1623 - val_rmse: 0.4028\n",
      "Epoch 87/400\n",
      "600/600 [==============================] - 73s 123ms/step - loss: 0.1443 - rmse: 0.3799 - val_loss: 0.1622 - val_rmse: 0.4028\n",
      "Epoch 88/400\n",
      "600/600 [==============================] - 73s 122ms/step - loss: 0.1438 - rmse: 0.3792 - val_loss: 0.1718 - val_rmse: 0.4145\n",
      "Epoch 89/400\n",
      "600/600 [==============================] - 74s 124ms/step - loss: 0.1434 - rmse: 0.3786 - val_loss: 0.1613 - val_rmse: 0.4016\n",
      "Epoch 90/400\n",
      "600/600 [==============================] - 74s 123ms/step - loss: 0.1433 - rmse: 0.3785 - val_loss: 0.1705 - val_rmse: 0.4130\n",
      "Epoch 91/400\n",
      "600/600 [==============================] - 74s 123ms/step - loss: 0.1452 - rmse: 0.3811 - val_loss: 0.1624 - val_rmse: 0.4030\n",
      "Epoch 92/400\n",
      "600/600 [==============================] - 74s 124ms/step - loss: 0.1447 - rmse: 0.3804 - val_loss: 0.1686 - val_rmse: 0.4106\n",
      "Epoch 93/400\n",
      "600/600 [==============================] - 75s 125ms/step - loss: 0.1441 - rmse: 0.3796 - val_loss: 0.1735 - val_rmse: 0.4165\n",
      "Epoch 94/400\n",
      "600/600 [==============================] - 74s 124ms/step - loss: 0.1448 - rmse: 0.3806 - val_loss: 0.1652 - val_rmse: 0.4064\n",
      "Epoch 95/400\n",
      "600/600 [==============================] - 74s 124ms/step - loss: 0.1435 - rmse: 0.3788 - val_loss: 0.1587 - val_rmse: 0.3984\n",
      "Epoch 96/400\n",
      "600/600 [==============================] - 76s 127ms/step - loss: 0.1424 - rmse: 0.3774 - val_loss: 0.1577 - val_rmse: 0.3971\n",
      "Epoch 97/400\n",
      "600/600 [==============================] - 75s 124ms/step - loss: 0.1426 - rmse: 0.3777 - val_loss: 0.1679 - val_rmse: 0.4098\n",
      "Epoch 98/400\n",
      "600/600 [==============================] - 76s 127ms/step - loss: 0.1437 - rmse: 0.3791 - val_loss: 0.1645 - val_rmse: 0.4056\n",
      "Epoch 99/400\n",
      "600/600 [==============================] - 76s 127ms/step - loss: 0.1455 - rmse: 0.3814 - val_loss: 0.1616 - val_rmse: 0.4020\n",
      "Epoch 100/400\n",
      "600/600 [==============================] - 74s 124ms/step - loss: 0.1434 - rmse: 0.3786 - val_loss: 0.1665 - val_rmse: 0.4081\n",
      "Epoch 101/400\n",
      "600/600 [==============================] - 75s 124ms/step - loss: 0.1441 - rmse: 0.3796 - val_loss: 0.1663 - val_rmse: 0.4078\n",
      "Epoch 102/400\n",
      "600/600 [==============================] - 73s 122ms/step - loss: 0.1416 - rmse: 0.3763 - val_loss: 0.1621 - val_rmse: 0.4026\n",
      "Epoch 103/400\n",
      "600/600 [==============================] - 73s 123ms/step - loss: 0.1440 - rmse: 0.3795 - val_loss: 0.1608 - val_rmse: 0.4010\n",
      "Epoch 104/400\n",
      "600/600 [==============================] - 74s 123ms/step - loss: 0.1418 - rmse: 0.3765 - val_loss: 0.1763 - val_rmse: 0.4198\n",
      "Epoch 105/400\n",
      "600/600 [==============================] - 74s 123ms/step - loss: 0.1418 - rmse: 0.3766 - val_loss: 0.1654 - val_rmse: 0.4067\n",
      "Epoch 106/400\n",
      "600/600 [==============================] - 73s 123ms/step - loss: 0.1449 - rmse: 0.3806 - val_loss: 0.1626 - val_rmse: 0.4033\n",
      "Epoch 107/400\n",
      "600/600 [==============================] - 73s 122ms/step - loss: 0.1428 - rmse: 0.3779 - val_loss: 0.1752 - val_rmse: 0.4186\n",
      "Epoch 108/400\n",
      "600/600 [==============================] - 74s 123ms/step - loss: 0.1430 - rmse: 0.3782 - val_loss: 0.1618 - val_rmse: 0.4023\n",
      "Epoch 109/400\n",
      "600/600 [==============================] - 74s 123ms/step - loss: 0.1428 - rmse: 0.3779 - val_loss: 0.1650 - val_rmse: 0.4063\n",
      "Epoch 110/400\n",
      "600/600 [==============================] - 74s 123ms/step - loss: 0.1430 - rmse: 0.3781 - val_loss: 0.1564 - val_rmse: 0.3955\n",
      "Epoch 111/400\n",
      "600/600 [==============================] - 73s 123ms/step - loss: 0.1412 - rmse: 0.3758 - val_loss: 0.1635 - val_rmse: 0.4043\n",
      "Epoch 112/400\n",
      "600/600 [==============================] - 76s 127ms/step - loss: 0.1406 - rmse: 0.3749 - val_loss: 0.1616 - val_rmse: 0.4020\n",
      "Epoch 113/400\n",
      "600/600 [==============================] - 73s 123ms/step - loss: 0.1452 - rmse: 0.3810 - val_loss: 0.1630 - val_rmse: 0.4037\n",
      "Epoch 114/400\n",
      "600/600 [==============================] - 77s 128ms/step - loss: 0.1422 - rmse: 0.3771 - val_loss: 0.1734 - val_rmse: 0.4164\n",
      "Epoch 115/400\n",
      "600/600 [==============================] - 76s 126ms/step - loss: 0.1429 - rmse: 0.3780 - val_loss: 0.1575 - val_rmse: 0.3969\n",
      "Epoch 116/400\n",
      "600/600 [==============================] - 74s 123ms/step - loss: 0.1416 - rmse: 0.3762 - val_loss: 0.1634 - val_rmse: 0.4043\n",
      "Epoch 117/400\n",
      "600/600 [==============================] - 74s 123ms/step - loss: 0.1429 - rmse: 0.3780 - val_loss: 0.1715 - val_rmse: 0.4141\n",
      "Epoch 118/400\n",
      "600/600 [==============================] - 74s 124ms/step - loss: 0.1402 - rmse: 0.3745 - val_loss: 0.1575 - val_rmse: 0.3968\n"
     ]
    },
    {
     "name": "stdout",
     "output_type": "stream",
     "text": [
      "Epoch 119/400\n",
      "600/600 [==============================] - 73s 122ms/step - loss: 0.1418 - rmse: 0.3766 - val_loss: 0.1620 - val_rmse: 0.4025\n",
      "Epoch 120/400\n",
      "600/600 [==============================] - 74s 123ms/step - loss: 0.1421 - rmse: 0.3770 - val_loss: 0.1639 - val_rmse: 0.4048\n",
      "Epoch 121/400\n",
      "600/600 [==============================] - 74s 123ms/step - loss: 0.1443 - rmse: 0.3799 - val_loss: 0.1620 - val_rmse: 0.4024\n",
      "Epoch 122/400\n",
      "600/600 [==============================] - 74s 124ms/step - loss: 0.1406 - rmse: 0.3750 - val_loss: 0.1607 - val_rmse: 0.4008\n",
      "Epoch 123/400\n",
      "600/600 [==============================] - 73s 122ms/step - loss: 0.1430 - rmse: 0.3781 - val_loss: 0.1588 - val_rmse: 0.3985\n",
      "Epoch 124/400\n",
      "600/600 [==============================] - 73s 122ms/step - loss: 0.1415 - rmse: 0.3761 - val_loss: 0.1594 - val_rmse: 0.3992\n",
      "Epoch 125/400\n",
      "600/600 [==============================] - 74s 124ms/step - loss: 0.1411 - rmse: 0.3756 - val_loss: 0.1567 - val_rmse: 0.3959\n",
      "Epoch 126/400\n",
      "600/600 [==============================] - 74s 124ms/step - loss: 0.1402 - rmse: 0.3744 - val_loss: 0.1748 - val_rmse: 0.4180\n",
      "Epoch 127/400\n",
      "600/600 [==============================] - 74s 123ms/step - loss: 0.1417 - rmse: 0.3764 - val_loss: 0.1627 - val_rmse: 0.4034\n",
      "Epoch 128/400\n",
      "600/600 [==============================] - 76s 127ms/step - loss: 0.1432 - rmse: 0.3784 - val_loss: 0.1646 - val_rmse: 0.4057\n",
      "Epoch 129/400\n",
      "600/600 [==============================] - 74s 123ms/step - loss: 0.1420 - rmse: 0.3768 - val_loss: 0.1612 - val_rmse: 0.4015\n",
      "Epoch 130/400\n",
      "600/600 [==============================] - 76s 127ms/step - loss: 0.1420 - rmse: 0.3768 - val_loss: 0.1676 - val_rmse: 0.4093\n",
      "Epoch 131/400\n",
      "600/600 [==============================] - 76s 127ms/step - loss: 0.1404 - rmse: 0.3747 - val_loss: 0.1585 - val_rmse: 0.3982\n",
      "Epoch 132/400\n",
      "600/600 [==============================] - 74s 123ms/step - loss: 0.1424 - rmse: 0.3773 - val_loss: 0.1576 - val_rmse: 0.3970\n",
      "Epoch 133/400\n",
      "600/600 [==============================] - 74s 123ms/step - loss: 0.1397 - rmse: 0.3737 - val_loss: 0.1625 - val_rmse: 0.4031\n",
      "Epoch 134/400\n",
      "600/600 [==============================] - 74s 123ms/step - loss: 0.1403 - rmse: 0.3746 - val_loss: 0.1585 - val_rmse: 0.3981\n",
      "Epoch 135/400\n",
      "600/600 [==============================] - 75s 125ms/step - loss: 0.1437 - rmse: 0.3791 - val_loss: 0.1626 - val_rmse: 0.4032\n",
      "Epoch 136/400\n",
      "600/600 [==============================] - 73s 123ms/step - loss: 0.1405 - rmse: 0.3749 - val_loss: 0.1692 - val_rmse: 0.4114\n",
      "Epoch 137/400\n",
      "600/600 [==============================] - 73s 122ms/step - loss: 0.1420 - rmse: 0.3769 - val_loss: 0.1588 - val_rmse: 0.3985\n",
      "Epoch 138/400\n",
      "600/600 [==============================] - 74s 123ms/step - loss: 0.1410 - rmse: 0.3755 - val_loss: 0.1712 - val_rmse: 0.4138\n",
      "Epoch 139/400\n",
      "600/600 [==============================] - 74s 124ms/step - loss: 0.1413 - rmse: 0.3759 - val_loss: 0.1659 - val_rmse: 0.4073\n",
      "Epoch 140/400\n",
      "600/600 [==============================] - 74s 124ms/step - loss: 0.1400 - rmse: 0.3742 - val_loss: 0.1599 - val_rmse: 0.3999\n",
      "Epoch 141/400\n",
      "600/600 [==============================] - 73s 123ms/step - loss: 0.1401 - rmse: 0.3743 - val_loss: 0.1641 - val_rmse: 0.4051\n",
      "Epoch 142/400\n",
      "600/600 [==============================] - 74s 124ms/step - loss: 0.1421 - rmse: 0.3770 - val_loss: 0.1630 - val_rmse: 0.4037\n",
      "Epoch 143/400\n",
      "600/600 [==============================] - 75s 124ms/step - loss: 0.1417 - rmse: 0.3765 - val_loss: 0.1598 - val_rmse: 0.3997\n",
      "Epoch 144/400\n",
      "600/600 [==============================] - 74s 124ms/step - loss: 0.1408 - rmse: 0.3753 - val_loss: 0.1625 - val_rmse: 0.4031\n",
      "Epoch 145/400\n",
      "600/600 [==============================] - 74s 123ms/step - loss: 0.1414 - rmse: 0.3760 - val_loss: 0.1568 - val_rmse: 0.3960\n",
      "Epoch 146/400\n",
      "600/600 [==============================] - 76s 127ms/step - loss: 0.1405 - rmse: 0.3748 - val_loss: 0.1571 - val_rmse: 0.3964\n",
      "Epoch 147/400\n",
      "600/600 [==============================] - 77s 129ms/step - loss: 0.1396 - rmse: 0.3736 - val_loss: 0.1558 - val_rmse: 0.3947\n",
      "Epoch 148/400\n",
      "600/600 [==============================] - 74s 123ms/step - loss: 0.1398 - rmse: 0.3740 - val_loss: 0.1584 - val_rmse: 0.3980\n",
      "Epoch 149/400\n",
      "600/600 [==============================] - 74s 123ms/step - loss: 0.1409 - rmse: 0.3754 - val_loss: 0.1720 - val_rmse: 0.4147\n",
      "Epoch 150/400\n",
      "600/600 [==============================] - 74s 123ms/step - loss: 0.1424 - rmse: 0.3774 - val_loss: 0.1559 - val_rmse: 0.3948\n",
      "Epoch 151/400\n",
      "600/600 [==============================] - 74s 123ms/step - loss: 0.1401 - rmse: 0.3743 - val_loss: 0.1735 - val_rmse: 0.4165\n",
      "Epoch 152/400\n",
      "600/600 [==============================] - 74s 124ms/step - loss: 0.1413 - rmse: 0.3759 - val_loss: 0.1623 - val_rmse: 0.4028\n",
      "Epoch 153/400\n",
      "600/600 [==============================] - 74s 123ms/step - loss: 0.1393 - rmse: 0.3733 - val_loss: 0.1553 - val_rmse: 0.3941\n",
      "Epoch 154/400\n",
      "600/600 [==============================] - 73s 122ms/step - loss: 0.1411 - rmse: 0.3756 - val_loss: 0.1572 - val_rmse: 0.3965\n",
      "Epoch 155/400\n",
      "600/600 [==============================] - 74s 123ms/step - loss: 0.1389 - rmse: 0.3727 - val_loss: 0.1565 - val_rmse: 0.3956\n",
      "Epoch 156/400\n",
      "600/600 [==============================] - 75s 125ms/step - loss: 0.1392 - rmse: 0.3731 - val_loss: 0.1566 - val_rmse: 0.3957\n",
      "Epoch 157/400\n",
      "600/600 [==============================] - 75s 125ms/step - loss: 0.1425 - rmse: 0.3775 - val_loss: 0.1620 - val_rmse: 0.4025\n",
      "Epoch 158/400\n",
      "600/600 [==============================] - 75s 124ms/step - loss: 0.1403 - rmse: 0.3746 - val_loss: 0.1605 - val_rmse: 0.4006\n",
      "Epoch 159/400\n",
      "600/600 [==============================] - 74s 124ms/step - loss: 0.1405 - rmse: 0.3748 - val_loss: 0.1572 - val_rmse: 0.3965\n",
      "Epoch 160/400\n",
      "600/600 [==============================] - 77s 129ms/step - loss: 0.1401 - rmse: 0.3743 - val_loss: 0.1543 - val_rmse: 0.3928\n",
      "Epoch 161/400\n",
      "600/600 [==============================] - 74s 124ms/step - loss: 0.1404 - rmse: 0.3747 - val_loss: 0.1605 - val_rmse: 0.4006\n",
      "Epoch 162/400\n",
      "600/600 [==============================] - 76s 128ms/step - loss: 0.1384 - rmse: 0.3721 - val_loss: 0.1601 - val_rmse: 0.4001\n",
      "Epoch 163/400\n",
      "600/600 [==============================] - 76s 127ms/step - loss: 0.1383 - rmse: 0.3719 - val_loss: 0.1651 - val_rmse: 0.4063\n",
      "Epoch 164/400\n",
      "600/600 [==============================] - 75s 125ms/step - loss: 0.1430 - rmse: 0.3782 - val_loss: 0.1578 - val_rmse: 0.3972\n",
      "Epoch 165/400\n",
      "600/600 [==============================] - 74s 124ms/step - loss: 0.1401 - rmse: 0.3743 - val_loss: 0.1593 - val_rmse: 0.3992\n",
      "Epoch 166/400\n",
      "600/600 [==============================] - 74s 123ms/step - loss: 0.1403 - rmse: 0.3746 - val_loss: 0.1564 - val_rmse: 0.3955\n",
      "Epoch 167/400\n",
      "600/600 [==============================] - 74s 123ms/step - loss: 0.1391 - rmse: 0.3729 - val_loss: 0.1582 - val_rmse: 0.3977\n",
      "Epoch 168/400\n",
      "600/600 [==============================] - 74s 124ms/step - loss: 0.1405 - rmse: 0.3748 - val_loss: 0.1617 - val_rmse: 0.4022\n",
      "Epoch 169/400\n",
      "600/600 [==============================] - 74s 123ms/step - loss: 0.1376 - rmse: 0.3710 - val_loss: 0.1546 - val_rmse: 0.3932\n",
      "Epoch 170/400\n",
      "600/600 [==============================] - 73s 123ms/step - loss: 0.1399 - rmse: 0.3741 - val_loss: 0.1619 - val_rmse: 0.4024\n",
      "Epoch 171/400\n",
      "600/600 [==============================] - 73s 122ms/step - loss: 0.1398 - rmse: 0.3739 - val_loss: 0.1642 - val_rmse: 0.4052\n",
      "Epoch 172/400\n",
      "600/600 [==============================] - 74s 124ms/step - loss: 0.1418 - rmse: 0.3765 - val_loss: 0.1600 - val_rmse: 0.4000\n",
      "Epoch 173/400\n",
      "600/600 [==============================] - 74s 124ms/step - loss: 0.1387 - rmse: 0.3724 - val_loss: 0.1591 - val_rmse: 0.3989\n",
      "Epoch 174/400\n",
      "600/600 [==============================] - 74s 124ms/step - loss: 0.1409 - rmse: 0.3753 - val_loss: 0.1608 - val_rmse: 0.4010\n",
      "Epoch 175/400\n",
      "600/600 [==============================] - 74s 123ms/step - loss: 0.1397 - rmse: 0.3738 - val_loss: 0.1557 - val_rmse: 0.3946\n",
      "Epoch 176/400\n",
      "600/600 [==============================] - 76s 127ms/step - loss: 0.1389 - rmse: 0.3727 - val_loss: 0.1554 - val_rmse: 0.3942\n",
      "Epoch 177/400\n",
      "600/600 [==============================] - 74s 123ms/step - loss: 0.1384 - rmse: 0.3721 - val_loss: 0.1640 - val_rmse: 0.4050\n",
      "Epoch 178/400\n",
      "600/600 [==============================] - 76s 127ms/step - loss: 0.1396 - rmse: 0.3736 - val_loss: 0.1607 - val_rmse: 0.4009\n",
      "Epoch 179/400\n",
      "600/600 [==============================] - 76s 127ms/step - loss: 0.1416 - rmse: 0.3763 - val_loss: 0.1730 - val_rmse: 0.4159\n",
      "Epoch 180/400\n",
      "600/600 [==============================] - 74s 123ms/step - loss: 0.1399 - rmse: 0.3741 - val_loss: 0.1550 - val_rmse: 0.3937\n",
      "Epoch 181/400\n",
      "600/600 [==============================] - 74s 123ms/step - loss: 0.1400 - rmse: 0.3742 - val_loss: 0.1629 - val_rmse: 0.4036\n",
      "Epoch 182/400\n",
      "600/600 [==============================] - 73s 122ms/step - loss: 0.1382 - rmse: 0.3718 - val_loss: 0.1596 - val_rmse: 0.3995\n",
      "Epoch 183/400\n",
      "600/600 [==============================] - 74s 123ms/step - loss: 0.1405 - rmse: 0.3748 - val_loss: 0.1701 - val_rmse: 0.4124\n",
      "Epoch 184/400\n",
      "600/600 [==============================] - 73s 122ms/step - loss: 0.1375 - rmse: 0.3708 - val_loss: 0.1650 - val_rmse: 0.4062\n",
      "Epoch 185/400\n",
      "600/600 [==============================] - 74s 124ms/step - loss: 0.1384 - rmse: 0.3720 - val_loss: 0.1628 - val_rmse: 0.4035\n",
      "Epoch 186/400\n",
      "600/600 [==============================] - 73s 122ms/step - loss: 0.1415 - rmse: 0.3761 - val_loss: 0.1614 - val_rmse: 0.4018\n",
      "Epoch 187/400\n",
      "600/600 [==============================] - 74s 123ms/step - loss: 0.1385 - rmse: 0.3722 - val_loss: 0.1601 - val_rmse: 0.4002\n",
      "Epoch 188/400\n",
      "600/600 [==============================] - 74s 123ms/step - loss: 0.1399 - rmse: 0.3741 - val_loss: 0.1663 - val_rmse: 0.4078\n",
      "Epoch 189/400\n",
      "600/600 [==============================] - 76s 126ms/step - loss: 0.1391 - rmse: 0.3729 - val_loss: 0.1628 - val_rmse: 0.4034\n",
      "Epoch 190/400\n",
      "600/600 [==============================] - 74s 124ms/step - loss: 0.1390 - rmse: 0.3729 - val_loss: 0.1583 - val_rmse: 0.3979\n",
      "Epoch 191/400\n",
      "600/600 [==============================] - 74s 123ms/step - loss: 0.1379 - rmse: 0.3713 - val_loss: 0.1580 - val_rmse: 0.3975\n",
      "Epoch 192/400\n",
      "600/600 [==============================] - 76s 127ms/step - loss: 0.1381 - rmse: 0.3716 - val_loss: 0.1612 - val_rmse: 0.4016\n",
      "Epoch 193/400\n",
      "600/600 [==============================] - 74s 123ms/step - loss: 0.1399 - rmse: 0.3741 - val_loss: 0.1670 - val_rmse: 0.4086\n",
      "Epoch 194/400\n",
      "600/600 [==============================] - 76s 127ms/step - loss: 0.1401 - rmse: 0.3743 - val_loss: 0.1636 - val_rmse: 0.4045\n",
      "Epoch 195/400\n",
      "600/600 [==============================] - 76s 127ms/step - loss: 0.1391 - rmse: 0.3730 - val_loss: 0.1623 - val_rmse: 0.4029\n",
      "Epoch 196/400\n",
      "600/600 [==============================] - 74s 123ms/step - loss: 0.1397 - rmse: 0.3737 - val_loss: 0.1611 - val_rmse: 0.4014\n",
      "Epoch 197/400\n",
      "600/600 [==============================] - 74s 124ms/step - loss: 0.1392 - rmse: 0.3731 - val_loss: 0.1620 - val_rmse: 0.4025\n",
      "Epoch 198/400\n",
      "600/600 [==============================] - 74s 124ms/step - loss: 0.1378 - rmse: 0.3712 - val_loss: 0.1649 - val_rmse: 0.4061\n",
      "Epoch 199/400\n",
      "600/600 [==============================] - 74s 123ms/step - loss: 0.1377 - rmse: 0.3711 - val_loss: 0.1658 - val_rmse: 0.4072\n",
      "Epoch 200/400\n",
      "600/600 [==============================] - 73s 123ms/step - loss: 0.1393 - rmse: 0.3732 - val_loss: 0.1739 - val_rmse: 0.4171\n",
      "Epoch 201/400\n",
      "600/600 [==============================] - 74s 123ms/step - loss: 0.1412 - rmse: 0.3757 - val_loss: 0.1593 - val_rmse: 0.3992\n",
      "Epoch 202/400\n",
      "600/600 [==============================] - 74s 123ms/step - loss: 0.1383 - rmse: 0.3718 - val_loss: 0.1673 - val_rmse: 0.4090\n",
      "Epoch 203/400\n",
      "600/600 [==============================] - 74s 123ms/step - loss: 0.1393 - rmse: 0.3732 - val_loss: 0.1544 - val_rmse: 0.3929\n",
      "Epoch 204/400\n",
      "600/600 [==============================] - 74s 124ms/step - loss: 0.1383 - rmse: 0.3719 - val_loss: 0.1548 - val_rmse: 0.3935\n",
      "Epoch 205/400\n",
      "600/600 [==============================] - 77s 128ms/step - loss: 0.1390 - rmse: 0.3728 - val_loss: 0.1583 - val_rmse: 0.3978\n",
      "Epoch 206/400\n",
      "600/600 [==============================] - 74s 124ms/step - loss: 0.1372 - rmse: 0.3705 - val_loss: 0.1571 - val_rmse: 0.3964\n",
      "Epoch 207/400\n",
      "600/600 [==============================] - 74s 123ms/step - loss: 0.1376 - rmse: 0.3710 - val_loss: 0.1614 - val_rmse: 0.4018\n",
      "Epoch 208/400\n",
      "600/600 [==============================] - 74s 123ms/step - loss: 0.1409 - rmse: 0.3754 - val_loss: 0.1540 - val_rmse: 0.3924\n",
      "Epoch 209/400\n",
      "600/600 [==============================] - 74s 124ms/step - loss: 0.1387 - rmse: 0.3724 - val_loss: 0.1672 - val_rmse: 0.4089\n",
      "Epoch 210/400\n",
      "600/600 [==============================] - 78s 129ms/step - loss: 0.1390 - rmse: 0.3728 - val_loss: 0.1563 - val_rmse: 0.3953\n",
      "Epoch 211/400\n",
      "600/600 [==============================] - 76s 127ms/step - loss: 0.1384 - rmse: 0.3720 - val_loss: 0.1535 - val_rmse: 0.3918\n",
      "Epoch 212/400\n",
      "600/600 [==============================] - 74s 123ms/step - loss: 0.1389 - rmse: 0.3726 - val_loss: 0.1626 - val_rmse: 0.4032\n",
      "Epoch 213/400\n",
      "600/600 [==============================] - 74s 123ms/step - loss: 0.1371 - rmse: 0.3703 - val_loss: 0.1705 - val_rmse: 0.4129\n",
      "Epoch 214/400\n",
      "600/600 [==============================] - 75s 124ms/step - loss: 0.1365 - rmse: 0.3694 - val_loss: 0.1641 - val_rmse: 0.4051\n",
      "Epoch 215/400\n",
      "600/600 [==============================] - 73s 122ms/step - loss: 0.1414 - rmse: 0.3761 - val_loss: 0.1721 - val_rmse: 0.4149\n",
      "Epoch 216/400\n",
      "600/600 [==============================] - 74s 124ms/step - loss: 0.1384 - rmse: 0.3720 - val_loss: 0.1592 - val_rmse: 0.3990\n",
      "Epoch 217/400\n",
      "600/600 [==============================] - 73s 122ms/step - loss: 0.1389 - rmse: 0.3727 - val_loss: 0.1574 - val_rmse: 0.3968\n",
      "Epoch 218/400\n",
      "600/600 [==============================] - 75s 125ms/step - loss: 0.1376 - rmse: 0.3710 - val_loss: 0.1642 - val_rmse: 0.4052\n",
      "Epoch 219/400\n",
      "600/600 [==============================] - 74s 123ms/step - loss: 0.1390 - rmse: 0.3728 - val_loss: 0.1567 - val_rmse: 0.3958\n",
      "Epoch 220/400\n",
      "600/600 [==============================] - 74s 123ms/step - loss: 0.1359 - rmse: 0.3687 - val_loss: 0.1542 - val_rmse: 0.3927\n",
      "Epoch 221/400\n",
      "600/600 [==============================] - 74s 123ms/step - loss: 0.1387 - rmse: 0.3724 - val_loss: 0.1572 - val_rmse: 0.3964\n",
      "Epoch 222/400\n",
      "600/600 [==============================] - 75s 125ms/step - loss: 0.1384 - rmse: 0.3720 - val_loss: 0.1645 - val_rmse: 0.4055\n",
      "Epoch 223/400\n",
      "600/600 [==============================] - 74s 124ms/step - loss: 0.1402 - rmse: 0.3745 - val_loss: 0.1583 - val_rmse: 0.3979\n",
      "Epoch 224/400\n",
      "600/600 [==============================] - 77s 128ms/step - loss: 0.1375 - rmse: 0.3708 - val_loss: 0.1566 - val_rmse: 0.3957\n",
      "Epoch 225/400\n",
      "600/600 [==============================] - 73s 122ms/step - loss: 0.1395 - rmse: 0.3736 - val_loss: 0.1691 - val_rmse: 0.4112\n",
      "Epoch 226/400\n",
      "600/600 [==============================] - 76s 127ms/step - loss: 0.1380 - rmse: 0.3715 - val_loss: 0.1529 - val_rmse: 0.3910\n",
      "Epoch 227/400\n",
      "600/600 [==============================] - 76s 127ms/step - loss: 0.1372 - rmse: 0.3704 - val_loss: 0.1577 - val_rmse: 0.3971\n",
      "Epoch 228/400\n",
      "600/600 [==============================] - 74s 123ms/step - loss: 0.1368 - rmse: 0.3699 - val_loss: 0.1598 - val_rmse: 0.3998\n",
      "Epoch 229/400\n",
      "600/600 [==============================] - 73s 122ms/step - loss: 0.1382 - rmse: 0.3717 - val_loss: 0.1568 - val_rmse: 0.3960\n",
      "Epoch 230/400\n",
      "600/600 [==============================] - 74s 123ms/step - loss: 0.1401 - rmse: 0.3743 - val_loss: 0.1617 - val_rmse: 0.4022\n",
      "Epoch 231/400\n",
      "600/600 [==============================] - 74s 123ms/step - loss: 0.1383 - rmse: 0.3719 - val_loss: 0.1541 - val_rmse: 0.3925\n",
      "Epoch 232/400\n",
      "600/600 [==============================] - 74s 123ms/step - loss: 0.1385 - rmse: 0.3722 - val_loss: 0.1623 - val_rmse: 0.4029\n",
      "Epoch 233/400\n",
      "600/600 [==============================] - 74s 123ms/step - loss: 0.1371 - rmse: 0.3702 - val_loss: 0.1641 - val_rmse: 0.4051\n",
      "Epoch 234/400\n",
      "600/600 [==============================] - 74s 123ms/step - loss: 0.1389 - rmse: 0.3727 - val_loss: 0.1671 - val_rmse: 0.4087\n",
      "Epoch 235/400\n"
     ]
    },
    {
     "name": "stdout",
     "output_type": "stream",
     "text": [
      "600/600 [==============================] - 74s 124ms/step - loss: 0.1363 - rmse: 0.3691 - val_loss: 0.1605 - val_rmse: 0.4006\n",
      "Epoch 236/400\n",
      "600/600 [==============================] - 74s 123ms/step - loss: 0.1371 - rmse: 0.3703 - val_loss: 0.1586 - val_rmse: 0.3982\n",
      "Epoch 237/400\n",
      "600/600 [==============================] - 74s 124ms/step - loss: 0.1402 - rmse: 0.3744 - val_loss: 0.1606 - val_rmse: 0.4008\n",
      "Epoch 238/400\n",
      "600/600 [==============================] - 73s 122ms/step - loss: 0.1377 - rmse: 0.3710 - val_loss: 0.1663 - val_rmse: 0.4077\n",
      "Epoch 239/400\n",
      "600/600 [==============================] - 74s 124ms/step - loss: 0.1386 - rmse: 0.3723 - val_loss: 0.1591 - val_rmse: 0.3989\n",
      "Epoch 240/400\n",
      "600/600 [==============================] - 76s 127ms/step - loss: 0.1380 - rmse: 0.3715 - val_loss: 0.1576 - val_rmse: 0.3970\n",
      "Epoch 241/400\n",
      "600/600 [==============================] - 73s 122ms/step - loss: 0.1377 - rmse: 0.3710 - val_loss: 0.1562 - val_rmse: 0.3952\n",
      "Epoch 242/400\n",
      "600/600 [==============================] - 76s 127ms/step - loss: 0.1364 - rmse: 0.3694 - val_loss: 0.1581 - val_rmse: 0.3976\n",
      "Epoch 243/400\n",
      "600/600 [==============================] - 77s 129ms/step - loss: 0.1369 - rmse: 0.3700 - val_loss: 0.1584 - val_rmse: 0.3980\n",
      "Epoch 244/400\n",
      "600/600 [==============================] - 73s 122ms/step - loss: 0.1388 - rmse: 0.3725 - val_loss: 0.1584 - val_rmse: 0.3979\n",
      "Epoch 245/400\n",
      "600/600 [==============================] - 74s 123ms/step - loss: 0.1387 - rmse: 0.3725 - val_loss: 0.1649 - val_rmse: 0.4060\n",
      "Epoch 246/400\n",
      "600/600 [==============================] - 74s 124ms/step - loss: 0.1380 - rmse: 0.3715 - val_loss: 0.1548 - val_rmse: 0.3935\n",
      "Epoch 247/400\n",
      "600/600 [==============================] - 75s 124ms/step - loss: 0.1384 - rmse: 0.3720 - val_loss: 0.1594 - val_rmse: 0.3992\n",
      "Epoch 248/400\n",
      "600/600 [==============================] - 74s 123ms/step - loss: 0.1380 - rmse: 0.3715 - val_loss: 0.1568 - val_rmse: 0.3960\n",
      "Epoch 249/400\n",
      "600/600 [==============================] - 73s 122ms/step - loss: 0.1364 - rmse: 0.3693 - val_loss: 0.1676 - val_rmse: 0.4094\n",
      "Epoch 250/400\n",
      "600/600 [==============================] - 73s 122ms/step - loss: 0.1368 - rmse: 0.3698 - val_loss: 0.1616 - val_rmse: 0.4020\n",
      "Epoch 251/400\n",
      "600/600 [==============================] - 73s 122ms/step - loss: 0.1382 - rmse: 0.3718 - val_loss: 0.1567 - val_rmse: 0.3959\n",
      "Epoch 252/400\n",
      "600/600 [==============================] - 74s 124ms/step - loss: 0.1403 - rmse: 0.3745 - val_loss: 0.1559 - val_rmse: 0.3948\n",
      "Epoch 253/400\n",
      "600/600 [==============================] - 74s 124ms/step - loss: 0.1368 - rmse: 0.3698 - val_loss: 0.1705 - val_rmse: 0.4129\n",
      "Epoch 254/400\n",
      "600/600 [==============================] - 74s 124ms/step - loss: 0.1380 - rmse: 0.3715 - val_loss: 0.1544 - val_rmse: 0.3929\n",
      "Epoch 255/400\n",
      "600/600 [==============================] - 74s 123ms/step - loss: 0.1375 - rmse: 0.3709 - val_loss: 0.1551 - val_rmse: 0.3939\n",
      "Epoch 256/400\n",
      "600/600 [==============================] - 77s 129ms/step - loss: 0.1378 - rmse: 0.3712 - val_loss: 0.1623 - val_rmse: 0.4029\n",
      "Epoch 257/400\n",
      "600/600 [==============================] - 73s 123ms/step - loss: 0.1360 - rmse: 0.3688 - val_loss: 0.1641 - val_rmse: 0.4051\n",
      "Epoch 258/400\n",
      "600/600 [==============================] - 76s 128ms/step - loss: 0.1364 - rmse: 0.3693 - val_loss: 0.1583 - val_rmse: 0.3979\n",
      "Epoch 259/400\n",
      "600/600 [==============================] - 77s 128ms/step - loss: 0.1401 - rmse: 0.3742 - val_loss: 0.1579 - val_rmse: 0.3974\n",
      "Epoch 260/400\n",
      "600/600 [==============================] - 77s 129ms/step - loss: 0.1377 - rmse: 0.3711 - val_loss: 0.1695 - val_rmse: 0.4117\n",
      "Epoch 261/400\n",
      "600/600 [==============================] - 80s 134ms/step - loss: 0.1376 - rmse: 0.3709 - val_loss: 0.1607 - val_rmse: 0.4009\n",
      "Epoch 262/400\n",
      "600/600 [==============================] - 82s 137ms/step - loss: 0.1375 - rmse: 0.3708 - val_loss: 0.1573 - val_rmse: 0.3966\n",
      "Epoch 263/400\n",
      "600/600 [==============================] - 82s 137ms/step - loss: 0.1378 - rmse: 0.3712 - val_loss: 0.1648 - val_rmse: 0.4060\n",
      "Epoch 264/400\n",
      "600/600 [==============================] - 83s 139ms/step - loss: 0.1364 - rmse: 0.3694 - val_loss: 0.1655 - val_rmse: 0.4068\n",
      "Epoch 265/400\n",
      "600/600 [==============================] - 81s 135ms/step - loss: 0.1353 - rmse: 0.3678 - val_loss: 0.1597 - val_rmse: 0.3996\n",
      "Epoch 266/400\n",
      "600/600 [==============================] - 78s 130ms/step - loss: 0.1403 - rmse: 0.3745 - val_loss: 0.1725 - val_rmse: 0.4153\n",
      "Epoch 267/400\n",
      "600/600 [==============================] - 77s 128ms/step - loss: 0.1373 - rmse: 0.3706 - val_loss: 0.1620 - val_rmse: 0.4025\n",
      "Epoch 268/400\n",
      "600/600 [==============================] - 77s 129ms/step - loss: 0.1378 - rmse: 0.3712 - val_loss: 0.1517 - val_rmse: 0.3895\n",
      "Epoch 269/400\n",
      "600/600 [==============================] - 78s 130ms/step - loss: 0.1368 - rmse: 0.3698 - val_loss: 0.1648 - val_rmse: 0.4059\n",
      "Epoch 270/400\n",
      "600/600 [==============================] - 77s 129ms/step - loss: 0.1381 - rmse: 0.3716 - val_loss: 0.1658 - val_rmse: 0.4071\n",
      "Epoch 271/400\n",
      "600/600 [==============================] - 78s 130ms/step - loss: 0.1347 - rmse: 0.3671 - val_loss: 0.1604 - val_rmse: 0.4005\n",
      "Epoch 272/400\n",
      "600/600 [==============================] - 82s 136ms/step - loss: 0.1375 - rmse: 0.3709 - val_loss: 0.1566 - val_rmse: 0.3958\n",
      "Epoch 273/400\n",
      "600/600 [==============================] - 77s 129ms/step - loss: 0.1377 - rmse: 0.3710 - val_loss: 0.1650 - val_rmse: 0.4062\n",
      "Epoch 274/400\n",
      "600/600 [==============================] - 82s 136ms/step - loss: 0.1392 - rmse: 0.3731 - val_loss: 0.1620 - val_rmse: 0.4024\n",
      "Epoch 275/400\n",
      "600/600 [==============================] - 82s 138ms/step - loss: 0.1363 - rmse: 0.3692 - val_loss: 0.1573 - val_rmse: 0.3966\n",
      "Epoch 276/400\n",
      "600/600 [==============================] - 80s 133ms/step - loss: 0.1388 - rmse: 0.3726 - val_loss: 0.1623 - val_rmse: 0.4029\n",
      "Epoch 277/400\n",
      "600/600 [==============================] - 79s 132ms/step - loss: 0.1371 - rmse: 0.3703 - val_loss: 0.1527 - val_rmse: 0.3908\n",
      "Epoch 278/400\n",
      "600/600 [==============================] - 80s 133ms/step - loss: 0.1364 - rmse: 0.3693 - val_loss: 0.1651 - val_rmse: 0.4063\n",
      "Epoch 279/400\n",
      "600/600 [==============================] - 80s 134ms/step - loss: 0.1359 - rmse: 0.3686 - val_loss: 0.1563 - val_rmse: 0.3954\n",
      "Epoch 280/400\n",
      "600/600 [==============================] - 82s 138ms/step - loss: 0.1373 - rmse: 0.3705 - val_loss: 0.1572 - val_rmse: 0.3965\n",
      "Epoch 281/400\n",
      "600/600 [==============================] - 83s 139ms/step - loss: 0.1390 - rmse: 0.3729 - val_loss: 0.1535 - val_rmse: 0.3918\n",
      "Epoch 282/400\n",
      "600/600 [==============================] - 84s 140ms/step - loss: 0.1375 - rmse: 0.3708 - val_loss: 0.1532 - val_rmse: 0.3915\n",
      "Epoch 283/400\n",
      "600/600 [==============================] - 86s 143ms/step - loss: 0.1375 - rmse: 0.3708 - val_loss: 0.1557 - val_rmse: 0.3946\n",
      "Epoch 284/400\n",
      "600/600 [==============================] - 84s 140ms/step - loss: 0.1366 - rmse: 0.3696 - val_loss: 0.1586 - val_rmse: 0.3983\n",
      "Epoch 285/400\n",
      "600/600 [==============================] - 84s 140ms/step - loss: 0.1380 - rmse: 0.3714 - val_loss: 0.1668 - val_rmse: 0.4084\n",
      "Epoch 286/400\n",
      "600/600 [==============================] - 85s 142ms/step - loss: 0.1351 - rmse: 0.3676 - val_loss: 0.1643 - val_rmse: 0.4053\n",
      "Epoch 287/400\n",
      "600/600 [==============================] - 85s 142ms/step - loss: 0.1364 - rmse: 0.3693 - val_loss: 0.1613 - val_rmse: 0.4016\n",
      "Epoch 288/400\n",
      "600/600 [==============================] - 87s 145ms/step - loss: 0.1392 - rmse: 0.3731 - val_loss: 0.1576 - val_rmse: 0.3970\n",
      "Epoch 289/400\n",
      "600/600 [==============================] - 83s 139ms/step - loss: 0.1367 - rmse: 0.3697 - val_loss: 0.1614 - val_rmse: 0.4017\n",
      "Epoch 290/400\n",
      "600/600 [==============================] - 89s 148ms/step - loss: 0.1378 - rmse: 0.3712 - val_loss: 0.1712 - val_rmse: 0.4138\n",
      "Epoch 291/400\n",
      "600/600 [==============================] - 83s 139ms/step - loss: 0.1369 - rmse: 0.3700 - val_loss: 0.1564 - val_rmse: 0.3955\n",
      "Epoch 292/400\n",
      "600/600 [==============================] - 85s 142ms/step - loss: 0.1368 - rmse: 0.3699 - val_loss: 0.1586 - val_rmse: 0.3982\n",
      "Epoch 293/400\n",
      "600/600 [==============================] - 84s 140ms/step - loss: 0.1358 - rmse: 0.3686 - val_loss: 0.1552 - val_rmse: 0.3940\n",
      "Epoch 294/400\n",
      "600/600 [==============================] - 86s 144ms/step - loss: 0.1358 - rmse: 0.3685 - val_loss: 0.1657 - val_rmse: 0.4071\n",
      "Epoch 295/400\n",
      "600/600 [==============================] - 81s 136ms/step - loss: 0.1382 - rmse: 0.3718 - val_loss: 0.1591 - val_rmse: 0.3989\n",
      "Epoch 296/400\n",
      "600/600 [==============================] - 82s 138ms/step - loss: 0.1379 - rmse: 0.3713 - val_loss: 0.1626 - val_rmse: 0.4032\n",
      "Epoch 297/400\n",
      "600/600 [==============================] - 83s 139ms/step - loss: 0.1370 - rmse: 0.3701 - val_loss: 0.1522 - val_rmse: 0.3901\n",
      "Epoch 298/400\n",
      "600/600 [==============================] - 85s 143ms/step - loss: 0.1374 - rmse: 0.3706 - val_loss: 0.1568 - val_rmse: 0.3960\n",
      "Epoch 299/400\n",
      "600/600 [==============================] - 83s 139ms/step - loss: 0.1372 - rmse: 0.3704 - val_loss: 0.1550 - val_rmse: 0.3937\n",
      "Epoch 300/400\n",
      "600/600 [==============================] - 88s 148ms/step - loss: 0.1351 - rmse: 0.3676 - val_loss: 0.1649 - val_rmse: 0.4061\n",
      "Epoch 301/400\n",
      "600/600 [==============================] - 84s 140ms/step - loss: 0.1358 - rmse: 0.3686 - val_loss: 0.1588 - val_rmse: 0.3984\n",
      "Epoch 302/400\n",
      "600/600 [==============================] - 84s 141ms/step - loss: 0.1373 - rmse: 0.3705 - val_loss: 0.1573 - val_rmse: 0.3966\n",
      "Epoch 303/400\n",
      "600/600 [==============================] - 83s 139ms/step - loss: 0.1395 - rmse: 0.3735 - val_loss: 0.1542 - val_rmse: 0.3926\n",
      "Epoch 304/400\n",
      "600/600 [==============================] - 83s 139ms/step - loss: 0.1357 - rmse: 0.3684 - val_loss: 0.1647 - val_rmse: 0.4058\n",
      "Epoch 305/400\n",
      "600/600 [==============================] - 90s 150ms/step - loss: 0.1375 - rmse: 0.3708 - val_loss: 0.1540 - val_rmse: 0.3925\n",
      "Epoch 306/400\n",
      "600/600 [==============================] - 88s 148ms/step - loss: 0.1365 - rmse: 0.3695 - val_loss: 0.1531 - val_rmse: 0.3912\n",
      "Epoch 307/400\n",
      "600/600 [==============================] - 83s 139ms/step - loss: 0.1366 - rmse: 0.3697 - val_loss: 0.1617 - val_rmse: 0.4022\n",
      "Epoch 308/400\n",
      "600/600 [==============================] - 83s 138ms/step - loss: 0.1353 - rmse: 0.3678 - val_loss: 0.1614 - val_rmse: 0.4018\n",
      "Epoch 309/400\n",
      "600/600 [==============================] - 84s 141ms/step - loss: 0.1357 - rmse: 0.3683 - val_loss: 0.1554 - val_rmse: 0.3942\n",
      "Epoch 310/400\n",
      "600/600 [==============================] - 83s 138ms/step - loss: 0.1393 - rmse: 0.3732 - val_loss: 0.1626 - val_rmse: 0.4032\n",
      "Epoch 311/400\n",
      "600/600 [==============================] - 82s 137ms/step - loss: 0.1365 - rmse: 0.3695 - val_loss: 0.1588 - val_rmse: 0.3985\n",
      "Epoch 312/400\n",
      "600/600 [==============================] - 84s 139ms/step - loss: 0.1370 - rmse: 0.3702 - val_loss: 0.1603 - val_rmse: 0.4003\n",
      "Epoch 313/400\n",
      "600/600 [==============================] - 83s 139ms/step - loss: 0.1363 - rmse: 0.3692 - val_loss: 0.1558 - val_rmse: 0.3947\n",
      "Epoch 314/400\n",
      "600/600 [==============================] - 81s 135ms/step - loss: 0.1369 - rmse: 0.3699 - val_loss: 0.1611 - val_rmse: 0.4013\n",
      "Epoch 315/400\n",
      "600/600 [==============================] - 80s 134ms/step - loss: 0.1353 - rmse: 0.3678 - val_loss: 0.1539 - val_rmse: 0.3923\n",
      "Epoch 316/400\n",
      "600/600 [==============================] - 88s 146ms/step - loss: 0.1347 - rmse: 0.3671 - val_loss: 0.1642 - val_rmse: 0.4052\n",
      "Epoch 317/400\n",
      "600/600 [==============================] - 80s 134ms/step - loss: 0.1393 - rmse: 0.3733 - val_loss: 0.1656 - val_rmse: 0.4070\n",
      "Epoch 318/400\n",
      "600/600 [==============================] - 81s 135ms/step - loss: 0.1364 - rmse: 0.3694 - val_loss: 0.1576 - val_rmse: 0.3970\n"
     ]
    },
    {
     "data": {
      "text/plain": [
       "<tensorflow.python.keras.callbacks.History at 0x7f1a39980dd0>"
      ]
     },
     "execution_count": 28,
     "metadata": {},
     "output_type": "execute_result"
    }
   ],
   "source": [
    "early_stopping_callback = tf.keras.callbacks.EarlyStopping(monitor='val_loss', patience=50, restore_best_weights=True, baseline=None)\n",
    "\n",
    "logdir = os.path.join(\"logs\", datetime.datetime.now().strftime(\"%Y%m%d-%H%M%S\"))\n",
    "tensorboard_callback = tf.keras.callbacks.TensorBoard(logdir, update_freq='batch')\n",
    "checkpoint_callback = tf.keras.callbacks.ModelCheckpoint(filepath='./denoiser_cnn_log_mel_generator.h5', \n",
    "                                                         monitor='val_loss', save_best_only=True)\n",
    "\n",
    "# wandb.tensorflow.log()\n",
    "\n",
    "model.fit(train_dataset,\n",
    "         steps_per_epoch=600, # you might need to change this\n",
    "         validation_data=test_dataset,\n",
    "         epochs=400,\n",
    "         callbacks=[early_stopping_callback, WandbCallback()]\n",
    "        )"
   ]
  },
  {
   "cell_type": "code",
   "execution_count": 29,
   "metadata": {
    "id": "g1ZZskDZ5L2a"
   },
   "outputs": [
    {
     "name": "stdout",
     "output_type": "stream",
     "text": [
      "2210/2210 [==============================] - 70s 32ms/step - loss: 0.1517 - rmse: 0.3895\n",
      "New model saved.\n"
     ]
    }
   ],
   "source": [
    "val_loss = model.evaluate(test_dataset)[0]\n",
    "if val_loss < baseline_val_loss:\n",
    "  print(\"New model saved.\")\n",
    "  model.save('./denoiser_cnn_log_mel_generator.h5')"
   ]
  },
  {
   "cell_type": "markdown",
   "metadata": {
    "id": "LeJTsGxCSuhm"
   },
   "source": [
    "## Testing"
   ]
  },
  {
   "cell_type": "code",
   "execution_count": 30,
   "metadata": {
    "id": "DLiTiK8blE0n"
   },
   "outputs": [],
   "source": [
    "def read_audio(filepath, sample_rate, normalize=True):\n",
    "    \"\"\"Read an audio file and return it as a numpy array\"\"\"\n",
    "    audio, sr = librosa.load(filepath, sr=sample_rate)\n",
    "    if normalize:\n",
    "      div_fac = 1 / np.max(np.abs(audio)) / 3.0\n",
    "      audio = audio * div_fac\n",
    "    return audio, sr\n",
    "        \n",
    "def add_noise_to_clean_audio(clean_audio, noise_signal):\n",
    "    \"\"\"Adds noise to an audio sample\"\"\"\n",
    "    if len(clean_audio) >= len(noise_signal):\n",
    "        # print(\"The noisy signal is smaller than the clean audio input. Duplicating the noise.\")\n",
    "        while len(clean_audio) >= len(noise_signal):\n",
    "            noise_signal = np.append(noise_signal, noise_signal)\n",
    "\n",
    "    ## Extract a noise segment from a random location in the noise file\n",
    "    ind = np.random.randint(0, noise_signal.size - clean_audio.size)\n",
    "\n",
    "    noiseSegment = noise_signal[ind: ind + clean_audio.size]\n",
    "\n",
    "    speech_power = np.sum(clean_audio ** 2)\n",
    "    noise_power = np.sum(noiseSegment ** 2)\n",
    "    noisyAudio = clean_audio + np.sqrt(speech_power / noise_power) * noiseSegment\n",
    "    return noisyAudio\n",
    "\n",
    "def play(audio, sample_rate):\n",
    "    ipd.display(ipd.Audio(data=audio, rate=sample_rate))  # load a local WAV file"
   ]
  },
  {
   "cell_type": "code",
   "execution_count": 31,
   "metadata": {
    "id": "uM6ajbBFlx3b"
   },
   "outputs": [],
   "source": [
    "class FeatureExtractor:\n",
    "    def __init__(self, audio, *, windowLength, overlap, sample_rate):\n",
    "        self.audio = audio\n",
    "        self.ffT_length = windowLength\n",
    "        self.window_length = windowLength\n",
    "        self.overlap = overlap\n",
    "        self.sample_rate = sample_rate\n",
    "        self.window = scipy.signal.hamming(self.window_length, sym=False)\n",
    "\n",
    "    def get_stft_spectrogram(self):\n",
    "        return librosa.stft(self.audio, n_fft=self.ffT_length, win_length=self.window_length, hop_length=self.overlap,\n",
    "                            window=self.window, center=True)\n",
    "\n",
    "    def get_audio_from_stft_spectrogram(self, stft_features):\n",
    "        return librosa.istft(stft_features, win_length=self.window_length, hop_length=self.overlap,\n",
    "                             window=self.window, center=True)\n",
    "\n",
    "    def get_mel_spectrogram(self):\n",
    "        return librosa.feature.melspectrogram(self.audio, sr=self.sample_rate, power=2.0, pad_mode='reflect',\n",
    "                                           n_fft=self.ffT_length, hop_length=self.overlap, center=True)\n",
    "\n",
    "    def get_audio_from_mel_spectrogram(self, M):\n",
    "        return librosa.feature.inverse.mel_to_audio(M, sr=self.sample_rate, n_fft=self.ffT_length, hop_length=self.overlap,\n",
    "                                             win_length=self.window_length, window=self.window,\n",
    "                                             center=True, pad_mode='reflect', power=2.0, n_iter=32, length=None)"
   ]
  },
  {
   "cell_type": "code",
   "execution_count": 32,
   "metadata": {
    "id": "9dcnyvquSoLs"
   },
   "outputs": [
    {
     "name": "stdout",
     "output_type": "stream",
     "text": [
      "Min: -0.3333333 Max: 0.30261758\n"
     ]
    },
    {
     "data": {
      "text/html": [
       "\n",
       "                <audio  controls=\"controls\" >\n",
       "                    <source src=\"data:audio/wav;base64,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\" type=\"audio/wav\" />\n",
       "                    Your browser does not support the audio element.\n",
       "                </audio>\n",
       "              "
      ],
      "text/plain": [
       "<IPython.lib.display.Audio object>"
      ]
     },
     "execution_count": 32,
     "metadata": {},
     "output_type": "execute_result"
    }
   ],
   "source": [
    "cleanAudio, sr = read_audio(os.path.join(mozilla_basepath, 'test', 'clean_sample.wav'), sample_rate=fs)\n",
    "print(\"Min:\", np.min(cleanAudio),\"Max:\",np.max(cleanAudio))\n",
    "ipd.Audio(data=cleanAudio, rate=sr) # load a local WAV file"
   ]
  },
  {
   "cell_type": "code",
   "execution_count": 33,
   "metadata": {
    "id": "BaHe1okPTvV-"
   },
   "outputs": [
    {
     "name": "stdout",
     "output_type": "stream",
     "text": [
      "Min: -0.2916928 Max: 0.33333334\n"
     ]
    },
    {
     "data": {
      "text/html": [
       "\n",
       "                <audio  controls=\"controls\" >\n",
       "                    <source src=\"data:audio/wav;base64,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\" type=\"audio/wav\" />\n",
       "                    Your browser does not support the audio element.\n",
       "                </audio>\n",
       "              "
      ],
      "text/plain": [
       "<IPython.lib.display.Audio object>"
      ]
     },
     "execution_count": 33,
     "metadata": {},
     "output_type": "execute_result"
    }
   ],
   "source": [
    "noiseAudio, sr = read_audio(os.path.join(UrbanSound8K_basepath, 'test', '7913-3-0-0.wav'), sample_rate=fs)\n",
    "print(\"Min:\", np.min(noiseAudio),\"Max:\",np.max(noiseAudio))\n",
    "ipd.Audio(data=noiseAudio, rate=sr) # load a local WAV file"
   ]
  },
  {
   "cell_type": "code",
   "execution_count": 34,
   "metadata": {
    "id": "bu_eOKRfTHbp"
   },
   "outputs": [
    {
     "name": "stdout",
     "output_type": "stream",
     "text": [
      "Min: 3.0009497e-09 Max: 11.036943\n"
     ]
    }
   ],
   "source": [
    "cleanAudioFeatureExtractor = FeatureExtractor(cleanAudio, windowLength=windowLength, overlap=overlap, sample_rate=sr)\n",
    "stft_features = cleanAudioFeatureExtractor.get_stft_spectrogram()\n",
    "stft_features = np.abs(stft_features)\n",
    "print(\"Min:\", np.min(stft_features),\"Max:\",np.max(stft_features))"
   ]
  },
  {
   "cell_type": "code",
   "execution_count": 35,
   "metadata": {
    "id": "sHWcmobyTP4E"
   },
   "outputs": [
    {
     "data": {
      "text/html": [
       "\n",
       "                <audio  controls=\"controls\" >\n",
       "                    <source src=\"data:audio/wav;base64,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\" type=\"audio/wav\" />\n",
       "                    Your browser does not support the audio element.\n",
       "                </audio>\n",
       "              "
      ],
      "text/plain": [
       "<IPython.lib.display.Audio object>"
      ]
     },
     "execution_count": 35,
     "metadata": {},
     "output_type": "execute_result"
    }
   ],
   "source": [
    "noisyAudio = add_noise_to_clean_audio(cleanAudio, noiseAudio)\n",
    "ipd.Audio(data=noisyAudio, rate=fs) # load a local WAV file"
   ]
  },
  {
   "cell_type": "code",
   "execution_count": 36,
   "metadata": {
    "id": "75M29dl3bBeF"
   },
   "outputs": [],
   "source": [
    "def prepare_input_features(stft_features):\n",
    "    # Phase Aware Scaling: To avoid extreme differences (more than\n",
    "    # 45 degree) between the noisy and clean phase, the clean spectral magnitude was encoded as similar to [21]:\n",
    "    noisySTFT = np.concatenate([stft_features[:,0:numSegments-1], stft_features], axis=1)\n",
    "    stftSegments = np.zeros((numFeatures, numSegments , noisySTFT.shape[1] - numSegments + 1))\n",
    "\n",
    "    for index in range(noisySTFT.shape[1] - numSegments + 1):\n",
    "        stftSegments[:,:,index] = noisySTFT[:,index:index + numSegments]\n",
    "    return stftSegments"
   ]
  },
  {
   "cell_type": "code",
   "execution_count": 37,
   "metadata": {
    "id": "9cjO5-cjTP6t"
   },
   "outputs": [
    {
     "name": "stdout",
     "output_type": "stream",
     "text": [
      "(129, 436)\n"
     ]
    }
   ],
   "source": [
    "noiseAudioFeatureExtractor = FeatureExtractor(noisyAudio, windowLength=windowLength, overlap=overlap, sample_rate=sr)\n",
    "noise_stft_features = noiseAudioFeatureExtractor.get_stft_spectrogram()\n",
    "\n",
    "# Paper: Besides, spectral phase was not used in the training phase.\n",
    "# At reconstruction, noisy spectral phase was used instead to\n",
    "# perform in- verse STFT and recover human speech.\n",
    "noisyPhase = np.angle(noise_stft_features)\n",
    "print(noisyPhase.shape)\n",
    "noise_stft_features = np.abs(noise_stft_features)\n",
    "\n",
    "mean = np.mean(noise_stft_features)\n",
    "std = np.std(noise_stft_features)\n",
    "noise_stft_features = (noise_stft_features - mean) / std"
   ]
  },
  {
   "cell_type": "code",
   "execution_count": 38,
   "metadata": {
    "id": "3p5PWWkrlE3m"
   },
   "outputs": [],
   "source": [
    "predictors = prepare_input_features(noise_stft_features)"
   ]
  },
  {
   "cell_type": "code",
   "execution_count": 39,
   "metadata": {
    "id": "4pSoOw2fTP9N"
   },
   "outputs": [
    {
     "name": "stdout",
     "output_type": "stream",
     "text": [
      "predictors.shape: (436, 129, 8, 1)\n"
     ]
    }
   ],
   "source": [
    "predictors = np.reshape(predictors, (predictors.shape[0], predictors.shape[1], 1, predictors.shape[2]))\n",
    "predictors = np.transpose(predictors, (3, 0, 1, 2)).astype(np.float32)\n",
    "print('predictors.shape:', predictors.shape)"
   ]
  },
  {
   "cell_type": "code",
   "execution_count": 40,
   "metadata": {
    "id": "a5sNR4sSTP_1"
   },
   "outputs": [
    {
     "name": "stdout",
     "output_type": "stream",
     "text": [
      "(436, 129, 1, 1)\n"
     ]
    }
   ],
   "source": [
    "STFTFullyConvolutional = model.predict(predictors)\n",
    "print(STFTFullyConvolutional.shape)"
   ]
  },
  {
   "cell_type": "code",
   "execution_count": 41,
   "metadata": {
    "id": "LzCga3PdUVwG"
   },
   "outputs": [],
   "source": [
    "def revert_features_to_audio(features, phase, cleanMean=None, cleanStd=None):\n",
    "    # scale the outpus back to the original range\n",
    "    if cleanMean and cleanStd:\n",
    "        features = cleanStd * features + cleanMean\n",
    "\n",
    "    phase = np.transpose(phase, (1, 0))\n",
    "    features = np.squeeze(features)\n",
    "\n",
    "    # features = librosa.db_to_power(features)\n",
    "    features = features * np.exp(1j * phase)  # that fixes the abs() ope previously done\n",
    "\n",
    "    features = np.transpose(features, (1, 0))\n",
    "    return noiseAudioFeatureExtractor.get_audio_from_stft_spectrogram(features)"
   ]
  },
  {
   "cell_type": "code",
   "execution_count": 42,
   "metadata": {
    "id": "LWlUDtPzURlQ"
   },
   "outputs": [
    {
     "name": "stdout",
     "output_type": "stream",
     "text": [
      "Min: -0.23926671 Max: 0.2656372\n"
     ]
    },
    {
     "data": {
      "text/html": [
       "\n",
       "                <audio  controls=\"controls\" >\n",
       "                    <source src=\"data:audio/wav;base64,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\" type=\"audio/wav\" />\n",
       "                    Your browser does not support the audio element.\n",
       "                </audio>\n",
       "              "
      ],
      "text/plain": [
       "<IPython.lib.display.Audio object>"
      ]
     },
     "execution_count": 42,
     "metadata": {},
     "output_type": "execute_result"
    }
   ],
   "source": [
    "denoisedAudioFullyConvolutional = revert_features_to_audio(STFTFullyConvolutional, noisyPhase, mean, std)\n",
    "print(\"Min:\", np.min(denoisedAudioFullyConvolutional),\"Max:\",np.max(denoisedAudioFullyConvolutional))\n",
    "ipd.Audio(data=denoisedAudioFullyConvolutional, rate=fs) # load a local WAV file"
   ]
  },
  {
   "cell_type": "code",
   "execution_count": 43,
   "metadata": {
    "id": "VvEIBy7EHgeP"
   },
   "outputs": [],
   "source": [
    "# A numeric identifier of the sound class -- Types of noise\n",
    "# 0 = air_conditioner\n",
    "# 1 = car_horn\n",
    "# 2 = children_playing\n",
    "# 3 = dog_bark\n",
    "# 4 = drilling\n",
    "# 5 = engine_idling\n",
    "# 6 = gun_shot\n",
    "# 7 = jackhammer\n",
    "# 8 = siren\n",
    "# 9 = street_music"
   ]
  },
  {
   "cell_type": "code",
   "execution_count": 44,
   "metadata": {
    "id": "tv_7ZwWaUW0_"
   },
   "outputs": [
    {
     "data": {
      "text/plain": [
       "Text(0.5, 1.0, 'Denoised Audio')"
      ]
     },
     "execution_count": 44,
     "metadata": {},
     "output_type": "execute_result"
    },
    {
     "data": {
      "image/png": "[encoded data removed]",
      "text/plain": [
       "<Figure size 432x288 with 3 Axes>"
      ]
     },
     "metadata": {
      "needs_background": "light"
     },
     "output_type": "display_data"
    }
   ],
   "source": [
    "f, (ax1, ax2, ax3) = plt.subplots(3, 1, sharey=True)\n",
    "\n",
    "ax1.plot(cleanAudio)\n",
    "ax1.set_title(\"Clean Audio\")\n",
    "\n",
    "ax2.plot(noisyAudio)\n",
    "ax2.set_title(\"Noisy Audio\")\n",
    "\n",
    "ax3.plot(denoisedAudioFullyConvolutional)\n",
    "ax3.set_title(\"Denoised Audio\")"
   ]
  },
  {
   "cell_type": "code",
   "execution_count": null,
   "metadata": {
    "id": "8LM7E91avKA3"
   },
   "outputs": [],
   "source": []
  }
 ],
 "metadata": {
  "accelerator": "GPU",
  "colab": {
   "collapsed_sections": [],
   "machine_shape": "hm",
   "name": "SpeechDenoiserCNN.ipynb",
   "provenance": [],
   "toc_visible": true
  },
  "kernelspec": {
   "display_name": "Python 3 (ipykernel)",
   "language": "python",
   "name": "python3"
  },
  "language_info": {
   "codemirror_mode": {
    "name": "ipython",
    "version": 3
   },
   "file_extension": ".py",
   "mimetype": "text/x-python",
   "name": "python",
   "nbconvert_exporter": "python",
   "pygments_lexer": "ipython3",
   "version": "3.7.11"
  }
 },
 "nbformat": 4,
 "nbformat_minor": 1
}
